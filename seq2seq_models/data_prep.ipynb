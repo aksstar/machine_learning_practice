{
 "cells": [
  {
   "cell_type": "code",
   "execution_count": 90,
   "metadata": {},
   "outputs": [],
   "source": [
    "import pandas as pd"
   ]
  },
  {
   "cell_type": "markdown",
   "metadata": {},
   "source": [
    "# Reading movies lens dataset\n",
    "- column names and seprater as per readme file"
   ]
  },
  {
   "cell_type": "code",
   "execution_count": 91,
   "metadata": {},
   "outputs": [
    {
     "name": "stderr",
     "output_type": "stream",
     "text": [
      "/home/aakash/.local/lib/python3.7/site-packages/ipykernel_launcher.py:3: ParserWarning: Falling back to the 'python' engine because the 'c' engine does not support regex separators (separators > 1 char and different from '\\s+' are interpreted as regex); you can avoid this warning by specifying engine='python'.\n",
      "  This is separate from the ipykernel package so we can avoid doing imports until\n"
     ]
    }
   ],
   "source": [
    "r_cols = ['user_id', 'movie_id', 'rating', 'unix_timestamp']\n",
    "ratings = pd.read_csv('ratings.dat', sep='::', names=r_cols,\n",
    "                      encoding='latin-1')"
   ]
  },
  {
   "cell_type": "markdown",
   "metadata": {},
   "source": [
    "# Creating a sequence of movie watched\n",
    "- Since data is not sorted by timestamp\n",
    "- first sorting the data based on timestamp."
   ]
  },
  {
   "cell_type": "code",
   "execution_count": 92,
   "metadata": {},
   "outputs": [],
   "source": [
    "rating_data = ratings.set_index(['user_id','unix_timestamp']).sort_index()"
   ]
  },
  {
   "cell_type": "markdown",
   "metadata": {},
   "source": [
    "# Taking only those movies which user likes"
   ]
  },
  {
   "cell_type": "code",
   "execution_count": 93,
   "metadata": {},
   "outputs": [],
   "source": [
    "rating_data=rating_data[rating_data.rating>3]"
   ]
  },
  {
   "cell_type": "code",
   "execution_count": 94,
   "metadata": {},
   "outputs": [],
   "source": [
    "movie_sequence = rating_data.groupby('user_id')['movie_id'].apply(list)"
   ]
  },
  {
   "cell_type": "markdown",
   "metadata": {},
   "source": [
    "# Filtering out users who have less 10 liked movies"
   ]
  },
  {
   "cell_type": "code",
   "execution_count": 95,
   "metadata": {},
   "outputs": [
    {
     "data": {
      "text/html": [
       "<div>\n",
       "<style scoped>\n",
       "    .dataframe tbody tr th:only-of-type {\n",
       "        vertical-align: middle;\n",
       "    }\n",
       "\n",
       "    .dataframe tbody tr th {\n",
       "        vertical-align: top;\n",
       "    }\n",
       "\n",
       "    .dataframe thead th {\n",
       "        text-align: right;\n",
       "    }\n",
       "</style>\n",
       "<table border=\"1\" class=\"dataframe\">\n",
       "  <thead>\n",
       "    <tr style=\"text-align: right;\">\n",
       "      <th></th>\n",
       "      <th>user_id</th>\n",
       "      <th>movie_id</th>\n",
       "      <th>Length</th>\n",
       "    </tr>\n",
       "  </thead>\n",
       "  <tbody>\n",
       "    <tr>\n",
       "      <th>0</th>\n",
       "      <td>1</td>\n",
       "      <td>[3186, 1270, 1721, 1022, 1836, 3408, 2804, 120...</td>\n",
       "      <td>45</td>\n",
       "    </tr>\n",
       "    <tr>\n",
       "      <th>1</th>\n",
       "      <td>2</td>\n",
       "      <td>[1198, 1210, 1293, 2943, 1225, 1193, 318, 3030...</td>\n",
       "      <td>73</td>\n",
       "    </tr>\n",
       "    <tr>\n",
       "      <th>2</th>\n",
       "      <td>3</td>\n",
       "      <td>[2858, 1968, 1961, 1266, 1378, 1379, 3671, 590...</td>\n",
       "      <td>37</td>\n",
       "    </tr>\n",
       "    <tr>\n",
       "      <th>3</th>\n",
       "      <td>4</td>\n",
       "      <td>[1097, 3468, 480, 260, 1198, 1387, 2028, 2366,...</td>\n",
       "      <td>18</td>\n",
       "    </tr>\n",
       "    <tr>\n",
       "      <th>4</th>\n",
       "      <td>5</td>\n",
       "      <td>[908, 919, 1250, 2858, 2997, 2770, 2355, 2908,...</td>\n",
       "      <td>82</td>\n",
       "    </tr>\n",
       "  </tbody>\n",
       "</table>\n",
       "</div>"
      ],
      "text/plain": [
       "   user_id                                           movie_id  Length\n",
       "0        1  [3186, 1270, 1721, 1022, 1836, 3408, 2804, 120...      45\n",
       "1        2  [1198, 1210, 1293, 2943, 1225, 1193, 318, 3030...      73\n",
       "2        3  [2858, 1968, 1961, 1266, 1378, 1379, 3671, 590...      37\n",
       "3        4  [1097, 3468, 480, 260, 1198, 1387, 2028, 2366,...      18\n",
       "4        5  [908, 919, 1250, 2858, 2997, 2770, 2355, 2908,...      82"
      ]
     },
     "execution_count": 95,
     "metadata": {},
     "output_type": "execute_result"
    }
   ],
   "source": [
    "movie_sequence = movie_sequence.reset_index()\n",
    "movie_sequence['Length'] = movie_sequence['movie_id'].str.len()\n",
    "movie_sequence = movie_sequence[movie_sequence.Length > 15]\n",
    "movie_sequence.head()"
   ]
  },
  {
   "cell_type": "code",
   "execution_count": 96,
   "metadata": {},
   "outputs": [
    {
     "data": {
      "text/html": [
       "<div>\n",
       "<style scoped>\n",
       "    .dataframe tbody tr th:only-of-type {\n",
       "        vertical-align: middle;\n",
       "    }\n",
       "\n",
       "    .dataframe tbody tr th {\n",
       "        vertical-align: top;\n",
       "    }\n",
       "\n",
       "    .dataframe thead th {\n",
       "        text-align: right;\n",
       "    }\n",
       "</style>\n",
       "<table border=\"1\" class=\"dataframe\">\n",
       "  <thead>\n",
       "    <tr style=\"text-align: right;\">\n",
       "      <th></th>\n",
       "      <th>user_id</th>\n",
       "      <th>Length</th>\n",
       "    </tr>\n",
       "  </thead>\n",
       "  <tbody>\n",
       "    <tr>\n",
       "      <th>count</th>\n",
       "      <td>5580.000000</td>\n",
       "      <td>5580.000000</td>\n",
       "    </tr>\n",
       "    <tr>\n",
       "      <th>mean</th>\n",
       "      <td>3026.947849</td>\n",
       "      <td>102.119713</td>\n",
       "    </tr>\n",
       "    <tr>\n",
       "      <th>std</th>\n",
       "      <td>1745.113817</td>\n",
       "      <td>106.363510</td>\n",
       "    </tr>\n",
       "    <tr>\n",
       "      <th>min</th>\n",
       "      <td>1.000000</td>\n",
       "      <td>16.000000</td>\n",
       "    </tr>\n",
       "    <tr>\n",
       "      <th>25%</th>\n",
       "      <td>1509.750000</td>\n",
       "      <td>33.000000</td>\n",
       "    </tr>\n",
       "    <tr>\n",
       "      <th>50%</th>\n",
       "      <td>3036.500000</td>\n",
       "      <td>65.000000</td>\n",
       "    </tr>\n",
       "    <tr>\n",
       "      <th>75%</th>\n",
       "      <td>4542.250000</td>\n",
       "      <td>130.000000</td>\n",
       "    </tr>\n",
       "    <tr>\n",
       "      <th>max</th>\n",
       "      <td>6040.000000</td>\n",
       "      <td>1435.000000</td>\n",
       "    </tr>\n",
       "  </tbody>\n",
       "</table>\n",
       "</div>"
      ],
      "text/plain": [
       "           user_id       Length\n",
       "count  5580.000000  5580.000000\n",
       "mean   3026.947849   102.119713\n",
       "std    1745.113817   106.363510\n",
       "min       1.000000    16.000000\n",
       "25%    1509.750000    33.000000\n",
       "50%    3036.500000    65.000000\n",
       "75%    4542.250000   130.000000\n",
       "max    6040.000000  1435.000000"
      ]
     },
     "execution_count": 96,
     "metadata": {},
     "output_type": "execute_result"
    }
   ],
   "source": [
    "movie_sequence.describe()"
   ]
  },
  {
   "cell_type": "markdown",
   "metadata": {},
   "source": [
    "# Creating Input and Output"
   ]
  },
  {
   "cell_type": "code",
   "execution_count": 101,
   "metadata": {},
   "outputs": [],
   "source": [
    "def input_output_splitter(data):\n",
    "    return pd.Series([data[:5], data[5:15]])"
   ]
  },
  {
   "cell_type": "code",
   "execution_count": 102,
   "metadata": {},
   "outputs": [],
   "source": [
    "movie_sequence[['input', 'output']] = movie_sequence['movie_id'].apply(input_output_splitter)"
   ]
  },
  {
   "cell_type": "code",
   "execution_count": 103,
   "metadata": {},
   "outputs": [
    {
     "data": {
      "text/html": [
       "<div>\n",
       "<style scoped>\n",
       "    .dataframe tbody tr th:only-of-type {\n",
       "        vertical-align: middle;\n",
       "    }\n",
       "\n",
       "    .dataframe tbody tr th {\n",
       "        vertical-align: top;\n",
       "    }\n",
       "\n",
       "    .dataframe thead th {\n",
       "        text-align: right;\n",
       "    }\n",
       "</style>\n",
       "<table border=\"1\" class=\"dataframe\">\n",
       "  <thead>\n",
       "    <tr style=\"text-align: right;\">\n",
       "      <th></th>\n",
       "      <th>user_id</th>\n",
       "      <th>movie_id</th>\n",
       "      <th>Length</th>\n",
       "      <th>input</th>\n",
       "      <th>output</th>\n",
       "    </tr>\n",
       "  </thead>\n",
       "  <tbody>\n",
       "    <tr>\n",
       "      <th>0</th>\n",
       "      <td>1</td>\n",
       "      <td>[3186, 1270, 1721, 1022, 1836, 3408, 2804, 120...</td>\n",
       "      <td>45</td>\n",
       "      <td>[3186, 1270, 1721, 1022, 1836]</td>\n",
       "      <td>[3408, 2804, 1207, 1193, 260, 919, 608, 2692, ...</td>\n",
       "    </tr>\n",
       "    <tr>\n",
       "      <th>1</th>\n",
       "      <td>2</td>\n",
       "      <td>[1198, 1210, 1293, 2943, 1225, 1193, 318, 3030...</td>\n",
       "      <td>73</td>\n",
       "      <td>[1198, 1210, 1293, 2943, 1225]</td>\n",
       "      <td>[1193, 318, 3030, 2858, 1945, 1207, 593, 3095,...</td>\n",
       "    </tr>\n",
       "    <tr>\n",
       "      <th>2</th>\n",
       "      <td>3</td>\n",
       "      <td>[2858, 1968, 1961, 1266, 1378, 1379, 3671, 590...</td>\n",
       "      <td>37</td>\n",
       "      <td>[2858, 1968, 1961, 1266, 1378]</td>\n",
       "      <td>[1379, 3671, 590, 260, 1196, 2871, 1197, 1198,...</td>\n",
       "    </tr>\n",
       "    <tr>\n",
       "      <th>3</th>\n",
       "      <td>4</td>\n",
       "      <td>[1097, 3468, 480, 260, 1198, 1387, 2028, 2366,...</td>\n",
       "      <td>18</td>\n",
       "      <td>[1097, 3468, 480, 260, 1198]</td>\n",
       "      <td>[1387, 2028, 2366, 1201, 2692, 2947, 1214, 341...</td>\n",
       "    </tr>\n",
       "    <tr>\n",
       "      <th>4</th>\n",
       "      <td>5</td>\n",
       "      <td>[908, 919, 1250, 2858, 2997, 2770, 2355, 2908,...</td>\n",
       "      <td>82</td>\n",
       "      <td>[908, 919, 1250, 2858, 2997]</td>\n",
       "      <td>[2770, 2355, 2908, 3016, 2599, 2959, 2333, 258...</td>\n",
       "    </tr>\n",
       "  </tbody>\n",
       "</table>\n",
       "</div>"
      ],
      "text/plain": [
       "   user_id                                           movie_id  Length  \\\n",
       "0        1  [3186, 1270, 1721, 1022, 1836, 3408, 2804, 120...      45   \n",
       "1        2  [1198, 1210, 1293, 2943, 1225, 1193, 318, 3030...      73   \n",
       "2        3  [2858, 1968, 1961, 1266, 1378, 1379, 3671, 590...      37   \n",
       "3        4  [1097, 3468, 480, 260, 1198, 1387, 2028, 2366,...      18   \n",
       "4        5  [908, 919, 1250, 2858, 2997, 2770, 2355, 2908,...      82   \n",
       "\n",
       "                            input  \\\n",
       "0  [3186, 1270, 1721, 1022, 1836]   \n",
       "1  [1198, 1210, 1293, 2943, 1225]   \n",
       "2  [2858, 1968, 1961, 1266, 1378]   \n",
       "3    [1097, 3468, 480, 260, 1198]   \n",
       "4    [908, 919, 1250, 2858, 2997]   \n",
       "\n",
       "                                              output  \n",
       "0  [3408, 2804, 1207, 1193, 260, 919, 608, 2692, ...  \n",
       "1  [1193, 318, 3030, 2858, 1945, 1207, 593, 3095,...  \n",
       "2  [1379, 3671, 590, 260, 1196, 2871, 1197, 1198,...  \n",
       "3  [1387, 2028, 2366, 1201, 2692, 2947, 1214, 341...  \n",
       "4  [2770, 2355, 2908, 3016, 2599, 2959, 2333, 258...  "
      ]
     },
     "execution_count": 103,
     "metadata": {},
     "output_type": "execute_result"
    }
   ],
   "source": [
    "movie_sequence.head()"
   ]
  },
  {
   "cell_type": "code",
   "execution_count": 105,
   "metadata": {},
   "outputs": [],
   "source": [
    "movie_sequence[['input', 'output']].to_csv('movie_sequence_no_index.csv', index=False,sep=':')"
   ]
  },
  {
   "cell_type": "code",
   "execution_count": null,
   "metadata": {},
   "outputs": [],
   "source": []
  }
 ],
 "metadata": {
  "kernelspec": {
   "display_name": "Python 3",
   "language": "python",
   "name": "python3"
  },
  "language_info": {
   "codemirror_mode": {
    "name": "ipython",
    "version": 3
   },
   "file_extension": ".py",
   "mimetype": "text/x-python",
   "name": "python",
   "nbconvert_exporter": "python",
   "pygments_lexer": "ipython3",
   "version": "3.7.5"
  }
 },
 "nbformat": 4,
 "nbformat_minor": 2
}
