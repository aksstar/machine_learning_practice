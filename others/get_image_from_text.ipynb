{
 "cells": [
  {
   "cell_type": "code",
   "execution_count": 28,
   "id": "935dfe5c",
   "metadata": {},
   "outputs": [],
   "source": [
    "from keybert import KeyBERT\n",
    "\n",
    "doc = \"\"\"\n",
    "The Janata Dal (United) on Thursday said it will contest the Uttar Pradesh Assembly elections in 2022 even if it does not manage to forge an alliance with the Bharatiya Janata Party, PTI reported.\n",
    "\n",
    "The Janata Dal (United) is an ally of the BJP at the Centre. They are also coalition partners in the Nitish Kumar-led Bihar government.\n",
    "\n",
    "“Undoubtedly we are going to fight there [Uttar Pradesh],” the party’s parliamentary board chief Upendra Kushwaha said at a press conference in Patna. “Of course, we would prefer to do so in alliance with the BJP. Though if that does not materialise, we may choose to go it alone.”\n",
    "\n",
    "Currently, the BJP is the single largest party in the Uttar Pradesh Assembly, occupying 312 of the 403 seats. The Janata Dal (United) does not have a single MLA in the Assembly.\n",
    "\n",
    "Meanwhile, Kushwaha said that the Janata Dal (United) faced no challenge in the Bihar bye-polls scheduled to take place on October 30. The Kusheshwar Asthan and Tarapur Assembly seats were vacated after two Janata Dal (United) leaders died.\n",
    "\n",
    "“Our victory is certain,” Kushwaha said. “We are only trying to ensure that the margin is big.”\n",
    "\n",
    "In the 243-member Bihar Assembly, the ruling National Democratic Alliance holds 126 seats. The Janata Dal (United) has 43 of them.\"\"\"\n",
    "# keywords = model.extract_keywords(doc)\n",
    "# extracted_kw = model.extract_keywords(doc, keyphrase_ngram_range=(1, 1),stop_words=None)\n",
    "# print(extracted_kw)"
   ]
  },
  {
   "cell_type": "code",
   "execution_count": 29,
   "id": "e6fd818d",
   "metadata": {},
   "outputs": [
    {
     "data": {
      "text/plain": [
       "[('elections in 2022', 0.5788),\n",
       " ('in 2022 even', 0.4106),\n",
       " ('in 2022', 0.3892),\n",
       " ('bihar bye polls', 0.3884),\n",
       " ('2022', 0.3624)]"
      ]
     },
     "execution_count": 29,
     "metadata": {},
     "output_type": "execute_result"
    }
   ],
   "source": [
    "extracted_kw = model.extract_keywords(doc, keyphrase_ngram_range=(1, 3),stop_words=None)\n",
    "extracted_kw"
   ]
  },
  {
   "cell_type": "code",
   "execution_count": 30,
   "id": "2ad85c9e",
   "metadata": {},
   "outputs": [
    {
     "name": "stdout",
     "output_type": "stream",
     "text": [
      "('elections in 2022', 0.5788) False\n",
      "('in 2022 even', 0.4106) False\n",
      "('in 2022', 0.3892) False\n",
      "('bihar bye polls', 0.3884) False\n",
      "('2022', 0.3624) False\n",
      "[]\n"
     ]
    }
   ],
   "source": [
    "import enchant\n",
    "d = enchant.Dict(\"en_US\")\n",
    "refined_list = []\n",
    "for keyword in extracted_kw:\n",
    "    print(keyword,d.check(keyword[0]))\n",
    "    if d.check(keyword[0]):\n",
    "        refined_list.append(keyword[0])\n",
    "    \n",
    "print(refined_list)"
   ]
  },
  {
   "cell_type": "code",
   "execution_count": 31,
   "id": "685b0a41",
   "metadata": {},
   "outputs": [],
   "source": [
    "from simple_image_download import simple_image_download as simp\n",
    "\n",
    "response = simp.simple_image_download\n",
    "\n",
    "for keyword in refined_list:\n",
    "    response().download(keyword, 2)\n",
    "\n",
    "    print(response().urls(keyword, 2))"
   ]
  },
  {
   "cell_type": "code",
   "execution_count": null,
   "id": "3daa88cc",
   "metadata": {},
   "outputs": [],
   "source": []
  },
  {
   "cell_type": "markdown",
   "id": "6e103ac7",
   "metadata": {},
   "source": [
    "# Spacy"
   ]
  },
  {
   "cell_type": "code",
   "execution_count": 12,
   "id": "61042501",
   "metadata": {},
   "outputs": [
    {
     "name": "stdout",
     "output_type": "stream",
     "text": [
      "Scarlett Johansson\n",
      "the Walt Disney Co.\n",
      "Thursday\n",
      "Black Widow\n",
      "first\n",
      "Johansson\n",
      "Los Angeles Superior Court\n",
      "two months ago\n",
      "Marvel\n",
      "two\n",
      "Disney\n",
      "Johansson\n",
      "Natasha Romanoff\n",
      "Black Widow\n",
      "nine\n",
      "2010\n",
      "Iron Man 2\n",
      "the years\n",
      "Alan Bergman\n",
      "Disney Studios Content\n",
      "the Marvel Cinematic Universe\n",
      "Bergman\n",
      "Johansson\n",
      "Disney\n",
      "Disney+\n",
      "30\n",
      "Disney\n",
      "the months\n",
      "Johansson\n",
      "Marvel\n",
      "Disney\n",
      "Marvel\n",
      "Johansson\n",
      "Marvel\n",
      "Disney\n",
      "Disney\n",
      "more than a year\n",
      "COVID-19\n",
      "Black Widow\n",
      "$80 million\n",
      "North America\n",
      "$78 million\n",
      "9 July\n",
      "the National Association of Theater Owners\n",
      "Johansson\n"
     ]
    }
   ],
   "source": [
    "\n",
    "import spacy\n",
    "nlp = spacy.load(\"en_core_web_lg\")\n",
    "text = \"\"\"\n",
    "Scarlett Johansson and the Walt Disney Co. on Thursday settled her lawsuit over the streaming release of Black Widow, bringing a swift end to what had begun as the first major fight between a studio and star over recent changes in rollout plans for films.\n",
    "Johansson filed the lawsuit in Los Angeles Superior Court two months ago, saying the streaming release of the Marvel movie breached her contract and deprived her of potential earnings.\n",
    "Terms of the deal were not disclosed, but the two sides released a joint statement in which they pledged to continue working together.\n",
    "“I am happy to have resolved our differences with Disney,” said Johansson, who has played Natasha Romanoff aka Black Widow, in nine movies going back to 2010’s Iron Man 2. “I’m incredibly proud of the work we’ve done together over the years and have greatly enjoyed my creative relationship with the team. I look forward to continuing our collaboration.”\n",
    "Alan Bergman, chairman of Disney Studios Content, said he is “pleased that we have been able to come to a mutual agreement.”\n",
    "“We appreciate her contributions to the Marvel Cinematic Universe and look forward to working together on a number of upcoming projects,” Bergman said.\n",
    "The lawsuit said Johansson’s contract guaranteed an exclusive theatrical release, with her potential earnings tied to the box office performance of the film.\n",
    "ut as it has with other recent releases since the coronavirus pandemic began, Disney released the film simultaneously in theaters and through its streaming service Disney+ for a $30 rental.\n",
    "The rhetoric of the lawsuit and Disney’s response suggested a long and ugly battle was ahead.\n",
    "“In the months leading up to this lawsuit, Ms. Johansson gave Disney and Marvel every opportunity to right their wrong and make good on Marvel’s promise,” the lawsuit said. “Disney intentionally induced Marvel’s breach of the Agreement, without justification, in order to prevent Ms. Johansson from realising the full benefit of her bargain with Marvel.”\n",
    "Disney at the time said the lawsuit had “no merit whatsoever,” adding that it was “especially sad and distressing in its callous disregard for the horrific and prolonged global effects of the COVID-19 pandemic.”\n",
    "Disney said the changed release plan “significantly enhanced her ability to earn additional compensation on top of the $20M she has received to date.”\n",
    "Delayed more than a year because of COVID-19 , Black Widow debuted to a what was then a pandemic-best of $80 million in North America and $78 million from international theaters on 9 July. But theatrical grosses declined sharply after that. In its second weekend in release, the National Association of Theater Owners issued a rare statement criticizing the strategy.\n",
    "Revised hybrid release strategies have occasionally led to public spats between stars, filmmakers and financiers who are unhappy with potential lost revenues and their lack of say in such strategies.\n",
    "But none were as big or as public as Johansson’s lawsuit.\n",
    "\n",
    "\"\"\"\n",
    "doc = nlp(text)\n",
    "# print(doc.ents)\n",
    "keywords = []\n",
    "for op in doc.ents:\n",
    "    print(op,)\n",
    "    keywords.append(str(op))"
   ]
  },
  {
   "cell_type": "code",
   "execution_count": 13,
   "id": "8913ca7f",
   "metadata": {},
   "outputs": [
    {
     "name": "stdout",
     "output_type": "stream",
     "text": [
      "['more than a year', 'Disney+', 'Disney Studios Content', 'North America', 'Marvel', '30', '9 July', 'Johansson', 'Bergman', '$78 million', 'Natasha Romanoff', 'the Walt Disney Co.', 'COVID-19', '2010', 'two months ago', 'Black Widow', 'Alan Bergman', 'the National Association of Theater Owners', '$80 million', 'Disney', 'Iron Man 2', 'the months', 'first', 'two', 'the years', 'nine', 'Scarlett Johansson', 'the Marvel Cinematic Universe', 'Los Angeles Superior Court', 'Thursday']\n"
     ]
    }
   ],
   "source": [
    "refined_kw = []\n",
    "refined_kw.append(keywords[0])\n",
    "for kw in keywords[1:]:\n",
    "    if kw not in refined_kw:\n",
    "        for rkw in refined_kw:\n",
    "#             print(\"===>>>\", kw[0],\"===>>\",rkw,jaccard_similarity(rkw.split(), kw[0].split()))\n",
    "            if jaccard_similarity(rkw.split(), kw.split()) < 0.5:\n",
    "                refined_kw.append(kw)\n",
    "            \n",
    "    refined_kw = list(set(refined_kw))\n",
    "print(refined_kw)\n",
    "# print(keywords)"
   ]
  },
  {
   "cell_type": "code",
   "execution_count": 15,
   "id": "0c50d27f",
   "metadata": {},
   "outputs": [
    {
     "name": "stderr",
     "output_type": "stream",
     "text": [
      "[=======================================================================================================================================================================================] 100%\n",
      "[=======================================================================================================================================================================================] 100%\n",
      "[                                                                                                                                                                                       ]   0%\r"
     ]
    },
    {
     "name": "stdout",
     "output_type": "stream",
     "text": [
      "['https://s.mxmcdn.net/images-storage/albums4/7/8/8/1/7/2/44271887_800_800.jpg', 'https://m.media-amazon.com/images/I/41tnDgIb1FL.jpg']\n"
     ]
    },
    {
     "name": "stderr",
     "output_type": "stream",
     "text": [
      "[=======================================================================================================================================================================================] 100%\n",
      "[=======================================================================================================================================================================================] 100%\n",
      "[                                                                                                                                                                                       ]   0%\r"
     ]
    },
    {
     "name": "stdout",
     "output_type": "stream",
     "text": [
      "['https://insidethemagic.net/wp-content/uploads/2020/06/Disney-Plus-Logo_supplied_1536x864-800x400.jpg', 'https://media.abc10.com/assets/KXTV/images/4638028d-58ec-46c7-9930-b60ef3af667b/4638028d-58ec-46c7-9930-b60ef3af667b_1920x1080.jpg']\n"
     ]
    },
    {
     "name": "stderr",
     "output_type": "stream",
     "text": [
      "[=======================================================================================================================================================================================] 100%\n",
      "[=======================================================================================================================================================================================] 100%\n",
      "[                                                                                                                                                                                       ]   0%\r"
     ]
    },
    {
     "name": "stdout",
     "output_type": "stream",
     "text": [
      "['https://mspoweruser.com/wp-content/uploads/2019/09/The-Walt-Disney-Studios-Microsoft-Azure.jpg', 'https://dapsmagic.com/wp-content/uploads/2020/04/The-Walt-Disney-Studios-Logo.jpg']\n"
     ]
    },
    {
     "name": "stderr",
     "output_type": "stream",
     "text": [
      "[=======================================================================================================================================================================================] 100%\n",
      "[=======================================================================================================================================================================================] 100%\n",
      "[                                                                                                                                                                                       ]   0%\r"
     ]
    },
    {
     "name": "stdout",
     "output_type": "stream",
     "text": [
      "['https://cdn.britannica.com/50/3050-050-36327151/North-America.jpg', 'https://upload.wikimedia.org/wikipedia/commons/a/a1/Map_of_North_America.png']\n"
     ]
    },
    {
     "name": "stderr",
     "output_type": "stream",
     "text": [
      "[=======================================================================================================================================================================================] 100%\n",
      "[=======================================================================================================================================================================================] 100%\n",
      "[                                                                                                                                                                                       ]   0%\r"
     ]
    },
    {
     "name": "stdout",
     "output_type": "stream",
     "text": [
      "['https://hips.hearstapps.com/hmg-prod.s3.amazonaws.com/images/marvel-cinematic-universe-order-1601976266.jpg', 'https://s3.amazonaws.com/com.marvel.terrigen/prod/captainmarvel_lob_crd_06.jpg']\n"
     ]
    },
    {
     "name": "stderr",
     "output_type": "stream",
     "text": [
      "[=======================================================================================================================================================================================] 100%\n",
      "[=======================================================================================================================================================================================] 100%\n",
      "[                                                                                                                                                                                       ]   0%\r"
     ]
    },
    {
     "name": "stdout",
     "output_type": "stream",
     "text": [
      "['https://image.freepik.com/free-photo/number-30_2227-918.jpg', 'https://t2.uc.ltmcdn.com/en/images/4/1/2/img_how_to_write_the_numbers_1_to_30_in_english_214_600.jpg']\n"
     ]
    },
    {
     "name": "stderr",
     "output_type": "stream",
     "text": [
      "[=======================================================================================================================================================================================] 100%\n",
      "[=======================================================================================================================================================================================] 100%\n",
      "[                                                                                                                                                                                       ]   0%\r"
     ]
    },
    {
     "name": "stdout",
     "output_type": "stream",
     "text": [
      "['https://image.shutterstock.com/image-vector/july-9-calendar-icon-vector-260nw-1233995662.jpg', 'https://cdn4.vectorstock.com/i/1000x1000/27/73/icon-day-date-9-july-template-calendar-page-vector-37252773.jpg']\n"
     ]
    },
    {
     "name": "stderr",
     "output_type": "stream",
     "text": [
      "[=======================================================================================================================================================================================] 100%\n",
      "[=======================================================================================================================================================================================] 100%\n",
      "[                                                                                                                                                                                       ]   0%\r"
     ]
    },
    {
     "name": "stdout",
     "output_type": "stream",
     "text": [
      "['https://upload.wikimedia.org/wikipedia/commons/thumb/2/2a/Scarlett_Johansson_by_Gage_Skidmore_2_%28cropped%2C_2%29.jpg/1200px-Scarlett_Johansson_by_Gage_Skidmore_2_%28cropped%2C_2%29.jpg', 'https://m.media-amazon.com/images/M/MV5BMTM3OTUwMDYwNl5BMl5BanBnXkFtZTcwNTUyNzc3Nw@@._V1_.jpg']\n"
     ]
    },
    {
     "name": "stderr",
     "output_type": "stream",
     "text": [
      "[=======================================================================================================================================================================================] 100%\n",
      "[=======================================================================================================================================================================================] 100%\n",
      "[                                                                                                                                                                                       ]   0%\r"
     ]
    },
    {
     "name": "stdout",
     "output_type": "stream",
     "text": [
      "['https://upload.wikimedia.org/wikipedia/commons/f/f2/Ingmar_Bergman_%281966%29.jpg', 'https://static.independent.co.uk/s3fs-public/thumbnails/image/2018/07/20/11/ingmar-bergman.jpg?width']\n"
     ]
    },
    {
     "name": "stderr",
     "output_type": "stream",
     "text": [
      "[=======================================================================================================================================================================================] 100%\n",
      "[=======================================================================================================================================================================================] 100%\n",
      "[                                                                                                                                                                                       ]   0%\r"
     ]
    },
    {
     "name": "stdout",
     "output_type": "stream",
     "text": [
      "['https://i.ytimg.com/vi/UvxsqxlxXuA/maxresdefault.jpg', 'https://townsquare.media/site/48/files/2020/09/11.jpg?w']\n"
     ]
    },
    {
     "name": "stderr",
     "output_type": "stream",
     "text": [
      "[=======================================================================================================================================================================================] 100%\n",
      "[=======================================================================================================================================================================================] 100%\n",
      "[                                                                                                                                                                                       ]   0%\r"
     ]
    },
    {
     "name": "stdout",
     "output_type": "stream",
     "text": [
      "['https://upload.wikimedia.org/wikipedia/en/f/f6/Scarlett_Johansson_as_Black_Widow.jpg', 'https://static.wikia.nocookie.net/marvelcinematicuniverse/images/9/9a/BlackWidow-EndgameProfile.jpg/revision/latest/top-crop/width/360/height/360?cb']\n"
     ]
    },
    {
     "name": "stderr",
     "output_type": "stream",
     "text": [
      "[=======================================================================================================================================================================================] 100%\n",
      "[=======================================================================================================================================================================================] 100%\n",
      "[                                                                                                                                                                                       ]   0%\r"
     ]
    },
    {
     "name": "stdout",
     "output_type": "stream",
     "text": [
      "['https://exchange4media.gumlet.io/news-photo/108287-disney.jpg?format', 'https://bestmediainfo.com/wp-content/uploads/2020/10/The-Walt-Disney-Company-Logo_8.jpg']\n"
     ]
    },
    {
     "name": "stderr",
     "output_type": "stream",
     "text": [
      "[=======================================================================================================================================================================================] 100%\n",
      "[=======================================================================================================================================================================================] 100%\n",
      "[                                                                                                                                                                                       ]   0%\r"
     ]
    },
    {
     "name": "stdout",
     "output_type": "stream",
     "text": [
      "['https://images.indianexpress.com/2021/02/Mumbai-covid.jpg', 'https://images.indianexpress.com/2021/04/covid-india2.jpeg']\n"
     ]
    },
    {
     "name": "stderr",
     "output_type": "stream",
     "text": [
      "[=======================================================================================================================================================================================] 100%\n",
      "[=======================================================================================================================================================================================] 100%\n",
      "[                                                                                                                                                                                       ]   0%\r"
     ]
    },
    {
     "name": "stdout",
     "output_type": "stream",
     "text": [
      "['https://m.media-amazon.com/images/M/MV5BOTU1NDQwZjQtODc2YS00MTE4LWE5YTctMmYwYmNiYTU2MzRmXkEyXkFqcGdeQXVyODU2MDg1NzU@._V1_FMjpg_UX1000_.jpg', 'https://thumbs.dreamstime.com/b/year-2010-10751806.jpg']\n"
     ]
    },
    {
     "name": "stderr",
     "output_type": "stream",
     "text": [
      "[=======================================================================================================================================================================================] 100%\n",
      "[=======================================================================================================================================================================================] 100%\n",
      "[                                                                                                                                                                                       ]   0%\r"
     ]
    },
    {
     "name": "stdout",
     "output_type": "stream",
     "text": [
      "['https://image.shutterstock.com/image-vector/number-two-butterflies-clouds-second-260nw-1771164167.jpg', 'https://quotefancy.com/media/wallpaper/3840x2160/3967151-Stefan-Edberg-Quote-Since-a-month-two-months-ago-you-know-I-ve.jpg']\n"
     ]
    },
    {
     "name": "stderr",
     "output_type": "stream",
     "text": [
      "[=======================================================================================================================================================================================] 100%\n",
      "[=======================================================================================================================================================================================] 100%\n",
      "[                                                                                                                                                                                       ]   0%\r"
     ]
    },
    {
     "name": "stdout",
     "output_type": "stream",
     "text": [
      "['https://lumiere-a.akamaihd.net/v1/images/p_blackwidow_disneyplus_21043-1_63f71aa0.jpeg', 'https://terrigen-cdn-dev.marvel.com/content/prod/1x/042_bluebayou_digital_keyart_teaser_r16_lg.jpg']\n"
     ]
    },
    {
     "name": "stderr",
     "output_type": "stream",
     "text": [
      "[=======================================================================================================================================================================================] 100%\n",
      "[=======================================================================================================================================================================================] 100%\n",
      "[                                                                                                                                                                                       ]   0%\r"
     ]
    },
    {
     "name": "stdout",
     "output_type": "stream",
     "text": [
      "['https://thewaltdisneycompany.com/app/uploads/2019/05/Alan_Bergman_396x395-396x395.jpg', 'https://thewaltdisneycompany.com/app/uploads/2019/05/AlanBergmanHeadshot.jpg']\n"
     ]
    },
    {
     "name": "stderr",
     "output_type": "stream",
     "text": [
      "[=======================================================================================================================================================================================] 100%\n",
      "[=======================================================================================================================================================================================] 100%\n",
      "[                                                                                                                                                                                       ]   0%\r"
     ]
    },
    {
     "name": "stdout",
     "output_type": "stream",
     "text": [
      "['https://www.natoonline.org/wp-content/uploads/2013/08/nato_redGradient_dualTaEBF1.jpg', 'https://pbs.twimg.com/profile_images/991329289525125120/jI0zSUT-_400x400.jpg']\n"
     ]
    },
    {
     "name": "stderr",
     "output_type": "stream",
     "text": [
      "[=======================================================================================================================================================================================] 100%\n",
      "[=======================================================================================================================================================================================] 100%\n",
      "[                                                                                                                                                                                       ]   0%\r"
     ]
    },
    {
     "name": "stdout",
     "output_type": "stream",
     "text": [
      "['https://www.brimbankshoppingcentre.com.au/uploads/images/80_million_powerball.jpg', 'https://www.973fm.com.au/wp-content/uploads/sites/6/2021/08/80-milly.jpg?crop']\n"
     ]
    },
    {
     "name": "stderr",
     "output_type": "stream",
     "text": [
      "[=======================================================================================================================================================================================] 100%\n",
      "[=======================================================================================================================================================================================] 100%\n",
      "[                                                                                                                                                                                       ]   0%\r"
     ]
    },
    {
     "name": "stdout",
     "output_type": "stream",
     "text": [
      "['https://blog.ipleaders.in/wp-content/uploads/2021/07/disney-magic-kingdom-castle-illustration.jpg', 'https://upload.wikimedia.org/wikipedia/en/thumb/5/57/Walt_Disney_Pictures_2011_logo.svg/1200px-Walt_Disney_Pictures_2011_logo.svg.png']\n"
     ]
    },
    {
     "name": "stderr",
     "output_type": "stream",
     "text": [
      "[=======================================================================================================================================================================================] 100%\n",
      "[=======================================================================================================================================================================================] 100%\n",
      "[                                                                                                                                                                                       ]   0%\r"
     ]
    },
    {
     "name": "stdout",
     "output_type": "stream",
     "text": [
      "['https://upload.wikimedia.org/wikipedia/en/e/ed/Iron_Man_2_poster.jpg', 'https://m.media-amazon.com/images/M/MV5BMTM0MDgwNjMyMl5BMl5BanBnXkFtZTcwNTg3NzAzMw@@._V1_FMjpg_UX1000_.jpg']\n"
     ]
    },
    {
     "name": "stderr",
     "output_type": "stream",
     "text": [
      "[=======================================================================================================================================================================================] 100%\n",
      "[=======================================================================================================================================================================================] 100%\n",
      "[                                                                                                                                                                                       ]   0%\r"
     ]
    },
    {
     "name": "stdout",
     "output_type": "stream",
     "text": [
      "['https://m.media-amazon.com/images/I/71oWrKi2gQL._AC_SL1200_.jpg', 'https://englishstudypage.com/wp-content/uploads/2017/04/months-of-the-year.png']\n"
     ]
    },
    {
     "name": "stderr",
     "output_type": "stream",
     "text": [
      "[=======================================================================================================================================================================================] 100%\n",
      "[=======================================================================================================================================================================================] 100%\n",
      "[                                                                                                                                                                                       ]   0%\r"
     ]
    },
    {
     "name": "stdout",
     "output_type": "stream",
     "text": [
      "['https://mma.prnewswire.com/media/1438929/first_Logo.jpg?p', 'https://www.first.org/1st-icon-512.png']\n"
     ]
    },
    {
     "name": "stderr",
     "output_type": "stream",
     "text": [
      "[=======================================================================================================================================================================================] 100%\n",
      "[=======================================================================================================================================================================================] 100%\n",
      "[                                                                                                                                                                                       ]   0%\r"
     ]
    },
    {
     "name": "stdout",
     "output_type": "stream",
     "text": [
      "['https://cdn.pixabay.com/photo/2015/04/04/19/13/two-706896_1280.jpg', 'https://previews.123rf.com/images/chudtsankov/chudtsankov1211/chudtsankov121100813/16570662-friendly-number-2-two-guy-with-text.jpg']\n"
     ]
    },
    {
     "name": "stderr",
     "output_type": "stream",
     "text": [
      "[=======================================================================================================================================================================================] 100%\n",
      "[=======================================================================================================================================================================================] 100%\n",
      "[                                                                                                                                                                                       ]   0%\r"
     ]
    },
    {
     "name": "stdout",
     "output_type": "stream",
     "text": [
      "['https://images-na.ssl-images-amazon.com/images/I/51u7hcjC8HL.jpg', 'https://images-na.ssl-images-amazon.com/images/I/71AkONm3rHL.jpg']\n"
     ]
    },
    {
     "name": "stderr",
     "output_type": "stream",
     "text": [
      "[=======================================================================================================================================================================================] 100%\n",
      "[=======================================================================================================================================================================================] 100%\n",
      "[                                                                                                                                                                                       ]   0%\r"
     ]
    },
    {
     "name": "stdout",
     "output_type": "stream",
     "text": [
      "['https://image.shutterstock.com/image-illustration/9-number-nine-green-3d-260nw-1178341768.jpg', 'https://cdn1.vectorstock.com/i/1000x1000/27/65/donut-cartoon-nine-number-vector-29112765.jpg']\n"
     ]
    },
    {
     "name": "stderr",
     "output_type": "stream",
     "text": [
      "[=======================================================================================================================================================================================] 100%\n",
      "[=======================================================================================================================================================================================] 100%\n",
      "[                                                                                                                                                                                       ]   0%\r"
     ]
    },
    {
     "name": "stdout",
     "output_type": "stream",
     "text": [
      "['https://upload.wikimedia.org/wikipedia/commons/thumb/2/2a/Scarlett_Johansson_by_Gage_Skidmore_2_%28cropped%2C_2%29.jpg/1200px-Scarlett_Johansson_by_Gage_Skidmore_2_%28cropped%2C_2%29.jpg', 'https://m.media-amazon.com/images/M/MV5BMTM3OTUwMDYwNl5BMl5BanBnXkFtZTcwNTUyNzc3Nw@@._V1_.jpg']\n"
     ]
    },
    {
     "name": "stderr",
     "output_type": "stream",
     "text": [
      "[=======================================================================================================================================================================================] 100%\n",
      "[=======================================================================================================================================================================================] 100%\n",
      "[                                                                                                                                                                                       ]   0%\r"
     ]
    },
    {
     "name": "stdout",
     "output_type": "stream",
     "text": [
      "['https://upload.wikimedia.org/wikipedia/en/7/7f/Marvel_Cinematic_Universe_Infinity_Saga_artwork.jpeg', 'https://hips.hearstapps.com/hmg-prod.s3.amazonaws.com/images/marvel-cinematic-universe-order-1601976266.jpg?crop']\n"
     ]
    },
    {
     "name": "stderr",
     "output_type": "stream",
     "text": [
      "[=======================================================================================================================================================================================] 100%\n",
      "[=======================================================================================================================================================================================] 100%\n",
      "[                                                                                                                                                                                       ]   0%\r"
     ]
    },
    {
     "name": "stdout",
     "output_type": "stream",
     "text": [
      "['https://images.law.com/contrib/content/uploads/sites/403/2018/10/LA-Superior-Court-Article-201810242241.jpg', 'https://correctionalnews.com/wp-content/uploads/2020/06/LosAngelesCounty-800x445.jpg']\n"
     ]
    },
    {
     "name": "stderr",
     "output_type": "stream",
     "text": [
      "[=======================================================================================================================================================================================] 100%\n",
      "[=======================================================================================================================================================================================] 100%\r"
     ]
    },
    {
     "name": "stdout",
     "output_type": "stream",
     "text": [
      "['https://imgk.timesnownews.com/story/thursday.jpg?tr', 'https://www.thefactsite.com/wp-content/uploads/2017/07/thursday-facts-702x347.jpg']\n"
     ]
    },
    {
     "name": "stderr",
     "output_type": "stream",
     "text": [
      "\n"
     ]
    }
   ],
   "source": [
    "from simple_image_download import simple_image_download as simp\n",
    "\n",
    "response = simp.simple_image_download\n",
    "\n",
    "for keyword in refined_kw:\n",
    "    response().download(keyword, 2)\n",
    "\n",
    "    print(response().urls(keyword, 2))"
   ]
  },
  {
   "cell_type": "code",
   "execution_count": 2,
   "id": "adc1250a",
   "metadata": {},
   "outputs": [],
   "source": [
    "def jaccard_similarity(list1, list2):\n",
    "    intersection = len(list(set(list1).intersection(list2)))\n",
    "    union = (len(list1) + len(list2)) - intersection\n",
    "    return float(intersection) / union"
   ]
  },
  {
   "cell_type": "markdown",
   "id": "94383cf6",
   "metadata": {},
   "source": [
    "# YAKE"
   ]
  },
  {
   "cell_type": "code",
   "execution_count": 23,
   "id": "d8c4321d",
   "metadata": {},
   "outputs": [
    {
     "name": "stdout",
     "output_type": "stream",
     "text": [
      "['swift end', 'bringing a swift', 'Walt Disney', 'Marvel', 'Los Angeles Superior', 'major fight', 'Johansson', 'Disney Studios Content', 'Thursday settled', 'Black Widow']\n",
      "[('Los Angeles Superior', 0.008591029046939234), ('Thursday settled', 0.013119548043341905), ('Black Widow', 0.01424212786173571), ('Walt Disney', 0.01577091588234421), ('Johansson', 0.035294586156432654), ('Disney Studios Content', 0.03567686543454183), ('bringing a swift', 0.037761332398430804), ('swift end', 0.039766209820771434), ('major fight', 0.039766209820771434), ('Marvel', 0.04028656464809143)]\n"
     ]
    }
   ],
   "source": [
    "import yake\n",
    "kw_extractor = yake.KeywordExtractor()\n",
    "# text = \"\"\"spaCy is an open-source software library for advanced natural language processing, written in the programming languages Python and Cython. The library is published under the MIT license and its main developers are Matthew Honnibal and Ines Montani, the founders of the software company Explosion.\"\"\"\n",
    "language = \"en\"\n",
    "max_ngram_size = 3\n",
    "deduplication_threshold = 0.4\n",
    "numOfKeywords = 10\n",
    "text = \"\"\"\n",
    "\n",
    "Scarlett Johansson and the Walt Disney Co. on Thursday settled her lawsuit over the streaming release of Black Widow, bringing a swift end to what had begun as the first major fight between a studio and star over recent changes in rollout plans for films.\n",
    "\n",
    "Johansson filed the lawsuit in Los Angeles Superior Court two months ago, saying the streaming release of the Marvel movie breached her contract and deprived her of potential earnings.\n",
    "\n",
    "Terms of the deal were not disclosed, but the two sides released a joint statement in which they pledged to continue working together.\n",
    "\n",
    "“I am happy to have resolved our differences with Disney,” said Johansson, who has played Natasha Romanoff aka Black Widow, in nine movies going back to 2010’s Iron Man 2. “I’m incredibly proud of the work we’ve done together over the years and have greatly enjoyed my creative relationship with the team. I look forward to continuing our collaboration.”\n",
    "\n",
    "Alan Bergman, chairman of Disney Studios Content, said he is “pleased that we have been able to come to a mutual agreement.”\n",
    "\n",
    "“We appreciate her contributions to the Marvel Cinematic Universe and look forward to working together on a number of upcoming projects,” Bergman said.\n",
    "\n",
    "The lawsuit said Johansson’s contract guaranteed an exclusive theatrical release, with her potential earnings tied to the box office performance of the film.\n",
    "\n",
    "But as it has with other recent releases since the coronavirus pandemic began, Disney released the film simultaneously in theaters and through its streaming service Disney+ for a $30 rental.\n",
    "\n",
    "The rhetoric of the lawsuit and Disney’s response suggested a long and ugly battle was ahead.\n",
    "\n",
    "“In the months leading up to this lawsuit, Ms. Johansson gave Disney and Marvel every opportunity to right their wrong and make good on Marvel’s promise,” the lawsuit said. “Disney intentionally induced Marvel’s breach of the Agreement, without justification, in order to prevent Ms. Johansson from realising the full benefit of her bargain with Marvel.”\n",
    "\n",
    "Disney at the time said the lawsuit had “no merit whatsoever,” adding that it was “especially sad and distressing in its callous disregard for the horrific and prolonged global effects of the COVID-19 pandemic.”\n",
    "\n",
    "Disney said the changed release plan “significantly enhanced her ability to earn additional compensation on top of the $20M she has received to date.”\n",
    "\n",
    "Delayed more than a year because of COVID-19 , Black Widow debuted to a what was then a pandemic-best of $80 million in North America and $78 million from international theaters on 9 July. But theatrical grosses declined sharply after that. In its second weekend in release, the National Association of Theater Owners issued a rare statement criticizing the strategy.\n",
    "\n",
    "Revised hybrid release strategies have occasionally led to public spats between stars, filmmakers and financiers who are unhappy with potential lost revenues and their lack of say in such strategies.\n",
    "\n",
    "But none were as big or as public as Johansson’s lawsuit.\n",
    "\n",
    "\n",
    "\n",
    "\"\"\"\n",
    "custom_kw_extractor = yake.KeywordExtractor(lan=language, n=max_ngram_size, dedupLim=deduplication_threshold, top=numOfKeywords, features=None)\n",
    "keywords = custom_kw_extractor.extract_keywords(text)\n",
    "refined_kw = []\n",
    "refined_kw.append(keywords[0][0])\n",
    "for kw in keywords[1:]:\n",
    "    if kw[0] not in refined_kw:\n",
    "        for rkw in refined_kw:\n",
    "#             print(\"===>>>\", kw[0],\"===>>\",rkw,jaccard_similarity(rkw.split(), kw[0].split()))\n",
    "            if jaccard_similarity(rkw.split(), kw[0].split()) < 0.5:\n",
    "                refined_kw.append(kw[0])\n",
    "    refined_kw = list(set(refined_kw))\n",
    "print(refined_kw)\n",
    "print(keywords)"
   ]
  },
  {
   "cell_type": "code",
   "execution_count": 24,
   "id": "59e11ad8",
   "metadata": {},
   "outputs": [
    {
     "data": {
      "text/plain": [
       "['swift end',\n",
       " 'bringing a swift',\n",
       " 'Walt Disney',\n",
       " 'Marvel',\n",
       " 'Los Angeles Superior',\n",
       " 'major fight',\n",
       " 'Johansson',\n",
       " 'Disney Studios Content',\n",
       " 'Thursday settled',\n",
       " 'Black Widow']"
      ]
     },
     "execution_count": 24,
     "metadata": {},
     "output_type": "execute_result"
    }
   ],
   "source": [
    "refined_kw"
   ]
  },
  {
   "cell_type": "code",
   "execution_count": 25,
   "id": "bcc029ef",
   "metadata": {},
   "outputs": [
    {
     "name": "stderr",
     "output_type": "stream",
     "text": [
      "[===========================================================================================================================================================================================================================] 100%\n",
      "[===========================================================================================================================================================================================================================] 100%\n",
      "[                                                                                                                                                                                                                           ]   0%\r"
     ]
    },
    {
     "name": "stdout",
     "output_type": "stream",
     "text": [
      "['https://image.shutterstock.com/image-photo/los-angeles-superior-court-building-260nw-214798918.jpg', 'https://images.law.com/contrib/content/uploads/sites/403/2018/10/LA-Superior-Court-Article-201810242241.jpg']\n"
     ]
    },
    {
     "name": "stderr",
     "output_type": "stream",
     "text": [
      "[===========================================================================================================================================================================================================================] 100%\n",
      "[===========================================================================================================================================================================================================================] 100%\n",
      "[                                                                                                                                                                                                                           ]   0%\r"
     ]
    },
    {
     "name": "stdout",
     "output_type": "stream",
     "text": [
      "['https://images.hindustantimes.com/img/2021/02/12/550x309/_0ccdc266-378d-11eb-8a23-c24c85d47ac3_1613109047602.jpg', 'https://images.hindustantimes.com/img/2021/01/22/550x309/station-cashier-checks-indian-ahmedabad-notes-inside_6493f078-44db-11eb-bcf5-ed790659da7b_1611292826916.jpg']\n"
     ]
    },
    {
     "name": "stderr",
     "output_type": "stream",
     "text": [
      "[===========================================================================================================================================================================================================================] 100%\n",
      "[===========================================================================================================================================================================================================================] 100%\n",
      "[                                                                                                                                                                                                                           ]   0%\r"
     ]
    },
    {
     "name": "stdout",
     "output_type": "stream",
     "text": [
      "['https://terrigen-cdn-dev.marvel.com/content/prod/1x/042_bluebayou_digital_keyart_teaser_r16_lg.jpg', 'https://upload.wikimedia.org/wikipedia/en/e/e9/Black_Widow_%282021_film%29_poster.jpg']\n"
     ]
    },
    {
     "name": "stderr",
     "output_type": "stream",
     "text": [
      "[===========================================================================================================================================================================================================================] 100%\n",
      "[===========================================================================================================================================================================================================================] 100%\n",
      "[                                                                                                                                                                                                                           ]   0%\r"
     ]
    },
    {
     "name": "stdout",
     "output_type": "stream",
     "text": [
      "['https://www.biography.com/.image/ar_1:1%2Cc_fill%2Ccs_srgb%2Cfl_progressive%2Cq_auto:good%2Cw_1200/MTYwNDg4NDA1NzYxNzk2MDU2/walt-disney-1901---1966-smiles-as-he-stands-in-front-of-the-fantasyland-castle-at-the-grand-opening-of-disneyland-anaheim-california-july-17-1955-photo-by-allan-grantthe-life-picture-collectiongetty-i.jpg', 'https://www.biography.com/.image/t_share/MTI2MDUwMjQ3NzMzNDYzMDUw/walt-disney-united-artistis-photofest-croppedjpg.jpg']\n"
     ]
    },
    {
     "name": "stderr",
     "output_type": "stream",
     "text": [
      "[===========================================================================================================================================================================================================================] 100%\n",
      "[===========================================================================================================================================================================================================================] 100%\r"
     ]
    },
    {
     "name": "stdout",
     "output_type": "stream",
     "text": [
      "['https://variety.com/wp-content/uploads/2021/09/Scarlett-Johansson-Disney-Lawsuit.jpg?w', 'https://upload.wikimedia.org/wikipedia/commons/thumb/2/2a/Scarlett_Johansson_by_Gage_Skidmore_2_%28cropped%2C_2%29.jpg/1200px-Scarlett_Johansson_by_Gage_Skidmore_2_%28cropped%2C_2%29.jpg']\n"
     ]
    },
    {
     "name": "stderr",
     "output_type": "stream",
     "text": [
      "\n"
     ]
    }
   ],
   "source": [
    "from simple_image_download import simple_image_download as simp\n",
    "\n",
    "response = simp.simple_image_download\n",
    "\n",
    "for keyword in keywords[:5]:\n",
    "    keyword = keyword[0]\n",
    "    response().download(keyword, 2)\n",
    "\n",
    "    print(response().urls(keyword, 2))"
   ]
  },
  {
   "cell_type": "code",
   "execution_count": null,
   "id": "b3779709",
   "metadata": {},
   "outputs": [],
   "source": []
  },
  {
   "cell_type": "markdown",
   "id": "9e614971",
   "metadata": {},
   "source": [
    "# Rake"
   ]
  },
  {
   "cell_type": "code",
   "execution_count": 65,
   "id": "aea149eb",
   "metadata": {},
   "outputs": [
    {
     "name": "stdout",
     "output_type": "stream",
     "text": [
      "two janata dal\n",
      "polls scheduled\n",
      "403 seats\n",
      "single mla\n",
      "member bihar assembly\n",
      "meanwhile\n",
      "“\n",
      "nitish kumar\n",
      "uttar pradesh assembly elections\n",
      "centre\n",
      "43\n",
      "243\n",
      "manage\n",
      "certain ,” kushwaha said\n",
      "occupying 312\n",
      "thursday said\n",
      "go\n",
      "leaders died\n",
      "going\n",
      "kusheshwar asthan\n",
      "victory\n",
      "patna\n",
      "2022 even\n",
      "“ undoubtedly\n",
      "party ’\n",
      "united\n",
      "ruling national democratic alliance holds 126 seats\n",
      "october 30\n",
      "course\n",
      "may choose\n",
      "take place\n",
      "alliance\n",
      "faced\n",
      "vacated\n",
      "parliamentary board chief upendra kushwaha said\n",
      "forge\n",
      "ensure\n",
      "pti reported\n",
      "press conference\n",
      "trying\n",
      "though\n",
      "alone .” currently\n",
      "janata dal\n",
      "materialise\n",
      "assembly\n",
      "challenge\n",
      "fight\n",
      "big .”\n",
      "bjp\n",
      "tarapur assembly seats\n",
      "uttar pradesh ],”\n",
      "kushwaha said\n",
      "also coalition partners\n",
      "single largest party\n",
      "bihar bye\n",
      "ally\n",
      "would prefer\n",
      "margin\n",
      "contest\n",
      "led bihar government\n",
      "uttar pradesh assembly\n",
      "bharatiya janata party\n"
     ]
    }
   ],
   "source": [
    "from rake_nltk import Rake\n",
    "rake_nltk_var = Rake()\n",
    "\n",
    "rake_nltk_var.extract_keywords_from_text(text)\n",
    "keyword_extracted = rake_nltk_var.get_ranked_phrases()\n",
    "# print(keyword_extracted)\n",
    "for kw in set(keyword_extracted):\n",
    "    print(kw)"
   ]
  },
  {
   "cell_type": "code",
   "execution_count": 58,
   "id": "d0958996",
   "metadata": {},
   "outputs": [
    {
     "name": "stderr",
     "output_type": "stream",
     "text": [
      "[nltk_data] Downloading package stopwords to\n",
      "[nltk_data]     /Users/aakashgouda/nltk_data...\n",
      "[nltk_data]   Unzipping corpora/stopwords.zip.\n"
     ]
    },
    {
     "data": {
      "text/plain": [
       "True"
      ]
     },
     "execution_count": 58,
     "metadata": {},
     "output_type": "execute_result"
    }
   ],
   "source": [
    "import nltk\n",
    "nltk.download('stopwords')"
   ]
  },
  {
   "cell_type": "code",
   "execution_count": null,
   "id": "0e673206",
   "metadata": {},
   "outputs": [],
   "source": [
    "#   \"image_path\": \"/Users/aakashgouda/Python_Project/asset_user_case/Flicker8k_Dataset/3275537015_74e04c0f3e.jpg\""
   ]
  }
 ],
 "metadata": {
  "kernelspec": {
   "display_name": "Python 3 (ipykernel)",
   "language": "python",
   "name": "python3"
  },
  "language_info": {
   "codemirror_mode": {
    "name": "ipython",
    "version": 3
   },
   "file_extension": ".py",
   "mimetype": "text/x-python",
   "name": "python",
   "nbconvert_exporter": "python",
   "pygments_lexer": "ipython3",
   "version": "3.7.9"
  }
 },
 "nbformat": 4,
 "nbformat_minor": 5
}
