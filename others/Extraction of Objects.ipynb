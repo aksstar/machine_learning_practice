{
 "cells": [
  {
   "cell_type": "code",
   "execution_count": 40,
   "id": "f59158ea",
   "metadata": {},
   "outputs": [],
   "source": [
    "import pixellib\n",
    "from pixellib.instance import instance_segmentation\n",
    "\n",
    "segment_image = instance_segmentation()\n",
    "segment_image.load_model(\"mask_rcnn_coco.h5\")"
   ]
  },
  {
   "cell_type": "code",
   "execution_count": 41,
   "id": "8f278c95",
   "metadata": {},
   "outputs": [],
   "source": [
    "class_id_to_name = {\n",
    "0: u'__background__',\n",
    " 1: u'person',\n",
    " 2: u'bicycle',\n",
    " 3: u'car',\n",
    " 4: u'motorcycle',\n",
    " 5: u'airplane',\n",
    " 6: u'bus',\n",
    " 7: u'train',\n",
    " 8: u'truck',\n",
    " 9: u'boat',\n",
    " 10: u'traffic light',\n",
    " 11: u'fire hydrant',\n",
    " 12: u'stop sign',\n",
    " 13: u'parking meter',\n",
    " 14: u'bench',\n",
    " 15: u'bird',\n",
    " 16: u'cat',\n",
    " 17: u'dog',\n",
    " 18: u'horse',\n",
    " 19: u'sheep',\n",
    " 20: u'cow',\n",
    " 21: u'elephant',\n",
    " 22: u'bear',\n",
    " 23: u'zebra',\n",
    " 24: u'giraffe',\n",
    " 25: u'backpack',\n",
    " 26: u'umbrella',\n",
    " 27: u'handbag',\n",
    " 28: u'tie',\n",
    " 29: u'suitcase',\n",
    " 30: u'frisbee',\n",
    " 31: u'skis',\n",
    " 32: u'snowboard',\n",
    " 33: u'sports ball',\n",
    " 34: u'kite',\n",
    " 35: u'baseball bat',\n",
    " 36: u'baseball glove',\n",
    " 37: u'skateboard',\n",
    " 38: u'surfboard',\n",
    " 39: u'tennis racket',\n",
    " 40: u'bottle',\n",
    " 41: u'wine glass',\n",
    " 42: u'cup',\n",
    " 43: u'fork',\n",
    " 44: u'knife',\n",
    " 45: u'spoon',\n",
    " 46: u'bowl',\n",
    " 47: u'banana',\n",
    " 48: u'apple',\n",
    " 49: u'sandwich',\n",
    " 50: u'orange',\n",
    " 51: u'broccoli',\n",
    " 52: u'carrot',\n",
    " 53: u'hot dog',\n",
    " 54: u'pizza',\n",
    " 55: u'donut',\n",
    " 56: u'cake',\n",
    " 57: u'chair',\n",
    " 58: u'couch',\n",
    " 59: u'potted plant',\n",
    " 60: u'bed',\n",
    " 61: u'dining table',\n",
    " 62: u'toilet',\n",
    " 63: u'tv',\n",
    " 64: u'laptop',\n",
    " 65: u'mouse',\n",
    " 66: u'remote',\n",
    " 67: u'keyboard',\n",
    " 68: u'cell phone',\n",
    " 69: u'microwave',\n",
    " 70: u'oven',\n",
    " 71: u'toaster',\n",
    " 72: u'sink',\n",
    " 73: u'refrigerator',\n",
    " 74: u'book',\n",
    " 75: u'clock',\n",
    " 76: u'vase',\n",
    " 77: u'scissors',\n",
    " 78: u'teddy bear',\n",
    " 79: u'hair drier',\n",
    " 80: u'toothbrush'}"
   ]
  },
  {
   "cell_type": "code",
   "execution_count": 42,
   "id": "c9a6958a",
   "metadata": {},
   "outputs": [
    {
     "name": "stderr",
     "output_type": "stream",
     "text": [
      "/Users/aakashgouda/Python_Project/venv/lib/python3.7/site-packages/tensorflow/python/keras/engine/training.py:2424: UserWarning: `Model.state_updates` will be removed in a future version. This property should not be used in TensorFlow 2.0, as `updates` are applied automatically.\n",
      "  warnings.warn('`Model.state_updates` will be removed in a future version. '\n"
     ]
    },
    {
     "name": "stdout",
     "output_type": "stream",
     "text": [
      "Processed image saved successfully in your current working directory.\n"
     ]
    }
   ],
   "source": [
    "# target_classes = segment_image.select_target_classes(person=True)\n",
    "segmask, output = segment_image.segmentImage(\"sample33.jpeg\", extract_segmented_objects=True,\n",
    " save_extracted_objects=True, show_bboxes=True,  output_image_name=\"output.jpg\")"
   ]
  },
  {
   "cell_type": "code",
   "execution_count": 43,
   "id": "0ecd1069",
   "metadata": {},
   "outputs": [
    {
     "data": {
      "text/plain": [
       "{'person'}"
      ]
     },
     "execution_count": 43,
     "metadata": {},
     "output_type": "execute_result"
    }
   ],
   "source": [
    "new_items = set()\n",
    "for id in segmask['class_ids']:\n",
    "    new_items.add(class_id_to_name[id])\n",
    "new_items "
   ]
  },
  {
   "cell_type": "code",
   "execution_count": null,
   "id": "f4551320",
   "metadata": {},
   "outputs": [],
   "source": []
  },
  {
   "cell_type": "code",
   "execution_count": null,
   "id": "776c646e",
   "metadata": {},
   "outputs": [],
   "source": []
  }
 ],
 "metadata": {
  "kernelspec": {
   "display_name": "Python 3 (ipykernel)",
   "language": "python",
   "name": "python3"
  },
  "language_info": {
   "codemirror_mode": {
    "name": "ipython",
    "version": 3
   },
   "file_extension": ".py",
   "mimetype": "text/x-python",
   "name": "python",
   "nbconvert_exporter": "python",
   "pygments_lexer": "ipython3",
   "version": "3.7.9"
  }
 },
 "nbformat": 4,
 "nbformat_minor": 5
}
