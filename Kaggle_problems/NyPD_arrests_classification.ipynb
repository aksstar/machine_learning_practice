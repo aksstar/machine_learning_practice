{
 "cells": [
  {
   "cell_type": "markdown",
   "metadata": {},
   "source": [
    "# Imports"
   ]
  },
  {
   "cell_type": "code",
   "execution_count": 5,
   "metadata": {},
   "outputs": [],
   "source": [
    "import pandas as pd\n",
    "from sklearn.model_selection import train_test_split"
   ]
  },
  {
   "cell_type": "markdown",
   "metadata": {},
   "source": [
    "# Since dataset is 413mb / 4.5 million rows, getting only 1000rows"
   ]
  },
  {
   "cell_type": "code",
   "execution_count": 6,
   "metadata": {},
   "outputs": [],
   "source": [
    "df = pd.read_csv('NYPD_Arrests_Data__Historic.csv', nrows=1000)"
   ]
  },
  {
   "cell_type": "markdown",
   "metadata": {},
   "source": [
    "# Converting date in string to date type"
   ]
  },
  {
   "cell_type": "code",
   "execution_count": 7,
   "metadata": {},
   "outputs": [
    {
     "data": {
      "text/html": [
       "<div>\n",
       "<style scoped>\n",
       "    .dataframe tbody tr th:only-of-type {\n",
       "        vertical-align: middle;\n",
       "    }\n",
       "\n",
       "    .dataframe tbody tr th {\n",
       "        vertical-align: top;\n",
       "    }\n",
       "\n",
       "    .dataframe thead th {\n",
       "        text-align: right;\n",
       "    }\n",
       "</style>\n",
       "<table border=\"1\" class=\"dataframe\">\n",
       "  <thead>\n",
       "    <tr style=\"text-align: right;\">\n",
       "      <th></th>\n",
       "      <th>ARREST_KEY</th>\n",
       "      <th>ARREST_DATE</th>\n",
       "      <th>PD_CD</th>\n",
       "      <th>PD_DESC</th>\n",
       "      <th>KY_CD</th>\n",
       "      <th>OFNS_DESC</th>\n",
       "      <th>LAW_CODE</th>\n",
       "      <th>LAW_CAT_CD</th>\n",
       "      <th>ARREST_BORO</th>\n",
       "      <th>ARREST_PRECINCT</th>\n",
       "      <th>JURISDICTION_CODE</th>\n",
       "      <th>AGE_GROUP</th>\n",
       "      <th>PERP_SEX</th>\n",
       "      <th>PERP_RACE</th>\n",
       "      <th>X_COORD_CD</th>\n",
       "      <th>Y_COORD_CD</th>\n",
       "      <th>Latitude</th>\n",
       "      <th>Longitude</th>\n",
       "    </tr>\n",
       "  </thead>\n",
       "  <tbody>\n",
       "    <tr>\n",
       "      <th>0</th>\n",
       "      <td>82422509</td>\n",
       "      <td>2012-01-01</td>\n",
       "      <td>203</td>\n",
       "      <td>TRESPASS 3, CRIMINAL</td>\n",
       "      <td>352</td>\n",
       "      <td>CRIMINAL TRESPASS</td>\n",
       "      <td>PL 1401000</td>\n",
       "      <td>M</td>\n",
       "      <td>K</td>\n",
       "      <td>70</td>\n",
       "      <td>0</td>\n",
       "      <td>18-24</td>\n",
       "      <td>M</td>\n",
       "      <td>BLACK</td>\n",
       "      <td>997873</td>\n",
       "      <td>169819</td>\n",
       "      <td>40.632788</td>\n",
       "      <td>-73.950920</td>\n",
       "    </tr>\n",
       "    <tr>\n",
       "      <th>1</th>\n",
       "      <td>82422945</td>\n",
       "      <td>2012-01-01</td>\n",
       "      <td>905</td>\n",
       "      <td>INTOXICATED DRIVING,ALCOHOL</td>\n",
       "      <td>347</td>\n",
       "      <td>INTOXICATED &amp; IMPAIRED DRIVING</td>\n",
       "      <td>VTL11920U3</td>\n",
       "      <td>M</td>\n",
       "      <td>Q</td>\n",
       "      <td>104</td>\n",
       "      <td>0</td>\n",
       "      <td>45-64</td>\n",
       "      <td>M</td>\n",
       "      <td>WHITE</td>\n",
       "      <td>1009994</td>\n",
       "      <td>204314</td>\n",
       "      <td>40.727442</td>\n",
       "      <td>-73.907119</td>\n",
       "    </tr>\n",
       "    <tr>\n",
       "      <th>2</th>\n",
       "      <td>82422481</td>\n",
       "      <td>2012-01-01</td>\n",
       "      <td>109</td>\n",
       "      <td>ASSAULT 2,1,UNCLASSIFIED</td>\n",
       "      <td>106</td>\n",
       "      <td>FELONY ASSAULT</td>\n",
       "      <td>PL 120052H</td>\n",
       "      <td>F</td>\n",
       "      <td>K</td>\n",
       "      <td>73</td>\n",
       "      <td>0</td>\n",
       "      <td>45-64</td>\n",
       "      <td>F</td>\n",
       "      <td>BLACK</td>\n",
       "      <td>1009491</td>\n",
       "      <td>177733</td>\n",
       "      <td>40.654485</td>\n",
       "      <td>-73.909033</td>\n",
       "    </tr>\n",
       "    <tr>\n",
       "      <th>3</th>\n",
       "      <td>82422462</td>\n",
       "      <td>2012-01-01</td>\n",
       "      <td>782</td>\n",
       "      <td>WEAPONS, POSSESSION, ETC</td>\n",
       "      <td>236</td>\n",
       "      <td>DANGEROUS WEAPONS</td>\n",
       "      <td>PL 2650101</td>\n",
       "      <td>M</td>\n",
       "      <td>K</td>\n",
       "      <td>73</td>\n",
       "      <td>0</td>\n",
       "      <td>18-24</td>\n",
       "      <td>M</td>\n",
       "      <td>BLACK</td>\n",
       "      <td>1008630</td>\n",
       "      <td>181082</td>\n",
       "      <td>40.663680</td>\n",
       "      <td>-73.912124</td>\n",
       "    </tr>\n",
       "    <tr>\n",
       "      <th>4</th>\n",
       "      <td>82422567</td>\n",
       "      <td>2012-01-01</td>\n",
       "      <td>269</td>\n",
       "      <td>MISCHIEF,CRIMINAL,    UNCL 2ND DEG 3RD DEG</td>\n",
       "      <td>121</td>\n",
       "      <td>CRIMINAL MISCHIEF &amp; RELATED OFFENSES</td>\n",
       "      <td>PL 1450500</td>\n",
       "      <td>F</td>\n",
       "      <td>M</td>\n",
       "      <td>23</td>\n",
       "      <td>0</td>\n",
       "      <td>25-44</td>\n",
       "      <td>M</td>\n",
       "      <td>WHITE HISPANIC</td>\n",
       "      <td>1000700</td>\n",
       "      <td>227655</td>\n",
       "      <td>40.791529</td>\n",
       "      <td>-73.940594</td>\n",
       "    </tr>\n",
       "  </tbody>\n",
       "</table>\n",
       "</div>"
      ],
      "text/plain": [
       "   ARREST_KEY ARREST_DATE  PD_CD                                     PD_DESC  \\\n",
       "0    82422509  2012-01-01    203                        TRESPASS 3, CRIMINAL   \n",
       "1    82422945  2012-01-01    905                 INTOXICATED DRIVING,ALCOHOL   \n",
       "2    82422481  2012-01-01    109                    ASSAULT 2,1,UNCLASSIFIED   \n",
       "3    82422462  2012-01-01    782                    WEAPONS, POSSESSION, ETC   \n",
       "4    82422567  2012-01-01    269  MISCHIEF,CRIMINAL,    UNCL 2ND DEG 3RD DEG   \n",
       "\n",
       "   KY_CD                             OFNS_DESC    LAW_CODE LAW_CAT_CD  \\\n",
       "0    352                     CRIMINAL TRESPASS  PL 1401000          M   \n",
       "1    347        INTOXICATED & IMPAIRED DRIVING  VTL11920U3          M   \n",
       "2    106                        FELONY ASSAULT  PL 120052H          F   \n",
       "3    236                     DANGEROUS WEAPONS  PL 2650101          M   \n",
       "4    121  CRIMINAL MISCHIEF & RELATED OFFENSES  PL 1450500          F   \n",
       "\n",
       "  ARREST_BORO  ARREST_PRECINCT  JURISDICTION_CODE AGE_GROUP PERP_SEX  \\\n",
       "0           K               70                  0     18-24        M   \n",
       "1           Q              104                  0     45-64        M   \n",
       "2           K               73                  0     45-64        F   \n",
       "3           K               73                  0     18-24        M   \n",
       "4           M               23                  0     25-44        M   \n",
       "\n",
       "        PERP_RACE  X_COORD_CD  Y_COORD_CD   Latitude  Longitude  \n",
       "0           BLACK      997873      169819  40.632788 -73.950920  \n",
       "1           WHITE     1009994      204314  40.727442 -73.907119  \n",
       "2           BLACK     1009491      177733  40.654485 -73.909033  \n",
       "3           BLACK     1008630      181082  40.663680 -73.912124  \n",
       "4  WHITE HISPANIC     1000700      227655  40.791529 -73.940594  "
      ]
     },
     "execution_count": 7,
     "metadata": {},
     "output_type": "execute_result"
    }
   ],
   "source": [
    "df['ARREST_DATE']=pd.to_datetime(df.ARREST_DATE)\n",
    "df.head()"
   ]
  },
  {
   "cell_type": "markdown",
   "metadata": {},
   "source": [
    "# Exploring data"
   ]
  },
  {
   "cell_type": "code",
   "execution_count": 8,
   "metadata": {},
   "outputs": [
    {
     "data": {
      "text/plain": [
       "145"
      ]
     },
     "execution_count": 8,
     "metadata": {},
     "output_type": "execute_result"
    }
   ],
   "source": [
    "df.LAW_CODE.nunique()"
   ]
  },
  {
   "cell_type": "code",
   "execution_count": 9,
   "metadata": {},
   "outputs": [
    {
     "name": "stdout",
     "output_type": "stream",
     "text": [
      "<class 'pandas.core.frame.DataFrame'>\n",
      "RangeIndex: 1000 entries, 0 to 999\n",
      "Data columns (total 18 columns):\n",
      "ARREST_KEY           1000 non-null int64\n",
      "ARREST_DATE          1000 non-null datetime64[ns]\n",
      "PD_CD                1000 non-null int64\n",
      "PD_DESC              1000 non-null object\n",
      "KY_CD                1000 non-null int64\n",
      "OFNS_DESC            1000 non-null object\n",
      "LAW_CODE             1000 non-null object\n",
      "LAW_CAT_CD           999 non-null object\n",
      "ARREST_BORO          1000 non-null object\n",
      "ARREST_PRECINCT      1000 non-null int64\n",
      "JURISDICTION_CODE    1000 non-null int64\n",
      "AGE_GROUP            1000 non-null object\n",
      "PERP_SEX             1000 non-null object\n",
      "PERP_RACE            1000 non-null object\n",
      "X_COORD_CD           1000 non-null int64\n",
      "Y_COORD_CD           1000 non-null int64\n",
      "Latitude             1000 non-null float64\n",
      "Longitude            1000 non-null float64\n",
      "dtypes: datetime64[ns](1), float64(2), int64(7), object(8)\n",
      "memory usage: 140.8+ KB\n"
     ]
    }
   ],
   "source": [
    "df.info()"
   ]
  },
  {
   "cell_type": "markdown",
   "metadata": {},
   "source": [
    "# Dropping redundant columns\n",
    "- X_COORD_CD, Y_COORD_CD is similar to Latitude, Longitude so dropping it\n",
    "- PD_CD, KY_CD don't what it can be useful for\n",
    "- ARREST_KEY unique key no use as a feature\n",
    "- PD_DESC : similar to OFNS_DESC\n",
    "- LAW_CAT_CD : similar to prep_sex"
   ]
  },
  {
   "cell_type": "code",
   "execution_count": 10,
   "metadata": {},
   "outputs": [],
   "source": [
    "df.drop(columns=['X_COORD_CD','Y_COORD_CD','ARREST_KEY','PD_CD','PD_DESC','KY_CD','LAW_CAT_CD'], inplace=True)"
   ]
  },
  {
   "cell_type": "markdown",
   "metadata": {},
   "source": [
    "# Deriving feature\n",
    "- Since inital 3 char of law code is generalizing the crime"
   ]
  },
  {
   "cell_type": "code",
   "execution_count": 11,
   "metadata": {},
   "outputs": [
    {
     "data": {
      "text/html": [
       "<div>\n",
       "<style scoped>\n",
       "    .dataframe tbody tr th:only-of-type {\n",
       "        vertical-align: middle;\n",
       "    }\n",
       "\n",
       "    .dataframe tbody tr th {\n",
       "        vertical-align: top;\n",
       "    }\n",
       "\n",
       "    .dataframe thead th {\n",
       "        text-align: right;\n",
       "    }\n",
       "</style>\n",
       "<table border=\"1\" class=\"dataframe\">\n",
       "  <thead>\n",
       "    <tr style=\"text-align: right;\">\n",
       "      <th></th>\n",
       "      <th>OFNS_DESC</th>\n",
       "      <th>LAW_CODE</th>\n",
       "      <th>ARREST_BORO</th>\n",
       "      <th>ARREST_PRECINCT</th>\n",
       "      <th>JURISDICTION_CODE</th>\n",
       "      <th>AGE_GROUP</th>\n",
       "      <th>PERP_SEX</th>\n",
       "      <th>PERP_RACE</th>\n",
       "      <th>Latitude</th>\n",
       "      <th>Longitude</th>\n",
       "      <th>day</th>\n",
       "      <th>month</th>\n",
       "      <th>dayofweek</th>\n",
       "    </tr>\n",
       "  </thead>\n",
       "  <tbody>\n",
       "    <tr>\n",
       "      <th>0</th>\n",
       "      <td>CRIMINAL TRESPASS</td>\n",
       "      <td>PL</td>\n",
       "      <td>K</td>\n",
       "      <td>70</td>\n",
       "      <td>0</td>\n",
       "      <td>18-24</td>\n",
       "      <td>M</td>\n",
       "      <td>BLACK</td>\n",
       "      <td>40.632788</td>\n",
       "      <td>-73.950920</td>\n",
       "      <td>1</td>\n",
       "      <td>1</td>\n",
       "      <td>6</td>\n",
       "    </tr>\n",
       "    <tr>\n",
       "      <th>1</th>\n",
       "      <td>INTOXICATED &amp; IMPAIRED DRIVING</td>\n",
       "      <td>VTL</td>\n",
       "      <td>Q</td>\n",
       "      <td>104</td>\n",
       "      <td>0</td>\n",
       "      <td>45-64</td>\n",
       "      <td>M</td>\n",
       "      <td>WHITE</td>\n",
       "      <td>40.727442</td>\n",
       "      <td>-73.907119</td>\n",
       "      <td>1</td>\n",
       "      <td>1</td>\n",
       "      <td>6</td>\n",
       "    </tr>\n",
       "    <tr>\n",
       "      <th>2</th>\n",
       "      <td>FELONY ASSAULT</td>\n",
       "      <td>PL</td>\n",
       "      <td>K</td>\n",
       "      <td>73</td>\n",
       "      <td>0</td>\n",
       "      <td>45-64</td>\n",
       "      <td>F</td>\n",
       "      <td>BLACK</td>\n",
       "      <td>40.654485</td>\n",
       "      <td>-73.909033</td>\n",
       "      <td>1</td>\n",
       "      <td>1</td>\n",
       "      <td>6</td>\n",
       "    </tr>\n",
       "    <tr>\n",
       "      <th>3</th>\n",
       "      <td>DANGEROUS WEAPONS</td>\n",
       "      <td>PL</td>\n",
       "      <td>K</td>\n",
       "      <td>73</td>\n",
       "      <td>0</td>\n",
       "      <td>18-24</td>\n",
       "      <td>M</td>\n",
       "      <td>BLACK</td>\n",
       "      <td>40.663680</td>\n",
       "      <td>-73.912124</td>\n",
       "      <td>1</td>\n",
       "      <td>1</td>\n",
       "      <td>6</td>\n",
       "    </tr>\n",
       "    <tr>\n",
       "      <th>4</th>\n",
       "      <td>CRIMINAL MISCHIEF &amp; RELATED OFFENSES</td>\n",
       "      <td>PL</td>\n",
       "      <td>M</td>\n",
       "      <td>23</td>\n",
       "      <td>0</td>\n",
       "      <td>25-44</td>\n",
       "      <td>M</td>\n",
       "      <td>WHITE HISPANIC</td>\n",
       "      <td>40.791529</td>\n",
       "      <td>-73.940594</td>\n",
       "      <td>1</td>\n",
       "      <td>1</td>\n",
       "      <td>6</td>\n",
       "    </tr>\n",
       "  </tbody>\n",
       "</table>\n",
       "</div>"
      ],
      "text/plain": [
       "                              OFNS_DESC LAW_CODE ARREST_BORO  ARREST_PRECINCT  \\\n",
       "0                     CRIMINAL TRESPASS      PL            K               70   \n",
       "1        INTOXICATED & IMPAIRED DRIVING      VTL           Q              104   \n",
       "2                        FELONY ASSAULT      PL            K               73   \n",
       "3                     DANGEROUS WEAPONS      PL            K               73   \n",
       "4  CRIMINAL MISCHIEF & RELATED OFFENSES      PL            M               23   \n",
       "\n",
       "   JURISDICTION_CODE AGE_GROUP PERP_SEX       PERP_RACE   Latitude  Longitude  \\\n",
       "0                  0     18-24        M           BLACK  40.632788 -73.950920   \n",
       "1                  0     45-64        M           WHITE  40.727442 -73.907119   \n",
       "2                  0     45-64        F           BLACK  40.654485 -73.909033   \n",
       "3                  0     18-24        M           BLACK  40.663680 -73.912124   \n",
       "4                  0     25-44        M  WHITE HISPANIC  40.791529 -73.940594   \n",
       "\n",
       "   day  month  dayofweek  \n",
       "0    1      1          6  \n",
       "1    1      1          6  \n",
       "2    1      1          6  \n",
       "3    1      1          6  \n",
       "4    1      1          6  "
      ]
     },
     "execution_count": 11,
     "metadata": {},
     "output_type": "execute_result"
    }
   ],
   "source": [
    "df['LAW_CODE'] = df.LAW_CODE.apply(lambda x: x[:3])\n",
    "df['day']= df.ARREST_DATE.dt.day\n",
    "df['month']= df.ARREST_DATE.dt.month\n",
    "df['dayofweek']= df.ARREST_DATE.dt.dayofweek\n",
    "df.drop(columns=['ARREST_DATE'], inplace=True)\n",
    "df.head()"
   ]
  },
  {
   "cell_type": "code",
   "execution_count": 12,
   "metadata": {},
   "outputs": [
    {
     "data": {
      "text/html": [
       "<div>\n",
       "<style scoped>\n",
       "    .dataframe tbody tr th:only-of-type {\n",
       "        vertical-align: middle;\n",
       "    }\n",
       "\n",
       "    .dataframe tbody tr th {\n",
       "        vertical-align: top;\n",
       "    }\n",
       "\n",
       "    .dataframe thead th {\n",
       "        text-align: right;\n",
       "    }\n",
       "</style>\n",
       "<table border=\"1\" class=\"dataframe\">\n",
       "  <thead>\n",
       "    <tr style=\"text-align: right;\">\n",
       "      <th></th>\n",
       "      <th>OFNS_DESC</th>\n",
       "      <th>LAW_CODE</th>\n",
       "      <th>ARREST_BORO</th>\n",
       "      <th>ARREST_PRECINCT</th>\n",
       "      <th>JURISDICTION_CODE</th>\n",
       "      <th>AGE_GROUP</th>\n",
       "      <th>PERP_SEX</th>\n",
       "      <th>PERP_RACE</th>\n",
       "      <th>Latitude</th>\n",
       "      <th>Longitude</th>\n",
       "      <th>day</th>\n",
       "      <th>month</th>\n",
       "      <th>dayofweek</th>\n",
       "    </tr>\n",
       "  </thead>\n",
       "  <tbody>\n",
       "    <tr>\n",
       "      <th>0</th>\n",
       "      <td>4</td>\n",
       "      <td>5</td>\n",
       "      <td>1</td>\n",
       "      <td>70</td>\n",
       "      <td>0</td>\n",
       "      <td>0</td>\n",
       "      <td>1</td>\n",
       "      <td>2</td>\n",
       "      <td>40.632788</td>\n",
       "      <td>-73.950920</td>\n",
       "      <td>1</td>\n",
       "      <td>1</td>\n",
       "      <td>6</td>\n",
       "    </tr>\n",
       "    <tr>\n",
       "      <th>1</th>\n",
       "      <td>16</td>\n",
       "      <td>7</td>\n",
       "      <td>3</td>\n",
       "      <td>104</td>\n",
       "      <td>0</td>\n",
       "      <td>2</td>\n",
       "      <td>1</td>\n",
       "      <td>5</td>\n",
       "      <td>40.727442</td>\n",
       "      <td>-73.907119</td>\n",
       "      <td>1</td>\n",
       "      <td>1</td>\n",
       "      <td>6</td>\n",
       "    </tr>\n",
       "    <tr>\n",
       "      <th>2</th>\n",
       "      <td>9</td>\n",
       "      <td>5</td>\n",
       "      <td>1</td>\n",
       "      <td>73</td>\n",
       "      <td>0</td>\n",
       "      <td>2</td>\n",
       "      <td>0</td>\n",
       "      <td>2</td>\n",
       "      <td>40.654485</td>\n",
       "      <td>-73.909033</td>\n",
       "      <td>1</td>\n",
       "      <td>1</td>\n",
       "      <td>6</td>\n",
       "    </tr>\n",
       "    <tr>\n",
       "      <th>3</th>\n",
       "      <td>6</td>\n",
       "      <td>5</td>\n",
       "      <td>1</td>\n",
       "      <td>73</td>\n",
       "      <td>0</td>\n",
       "      <td>0</td>\n",
       "      <td>1</td>\n",
       "      <td>2</td>\n",
       "      <td>40.663680</td>\n",
       "      <td>-73.912124</td>\n",
       "      <td>1</td>\n",
       "      <td>1</td>\n",
       "      <td>6</td>\n",
       "    </tr>\n",
       "    <tr>\n",
       "      <th>4</th>\n",
       "      <td>3</td>\n",
       "      <td>5</td>\n",
       "      <td>2</td>\n",
       "      <td>23</td>\n",
       "      <td>0</td>\n",
       "      <td>1</td>\n",
       "      <td>1</td>\n",
       "      <td>6</td>\n",
       "      <td>40.791529</td>\n",
       "      <td>-73.940594</td>\n",
       "      <td>1</td>\n",
       "      <td>1</td>\n",
       "      <td>6</td>\n",
       "    </tr>\n",
       "  </tbody>\n",
       "</table>\n",
       "</div>"
      ],
      "text/plain": [
       "   OFNS_DESC  LAW_CODE  ARREST_BORO  ARREST_PRECINCT  JURISDICTION_CODE  \\\n",
       "0          4         5            1               70                  0   \n",
       "1         16         7            3              104                  0   \n",
       "2          9         5            1               73                  0   \n",
       "3          6         5            1               73                  0   \n",
       "4          3         5            2               23                  0   \n",
       "\n",
       "   AGE_GROUP  PERP_SEX  PERP_RACE   Latitude  Longitude  day  month  dayofweek  \n",
       "0          0         1          2  40.632788 -73.950920    1      1          6  \n",
       "1          2         1          5  40.727442 -73.907119    1      1          6  \n",
       "2          2         0          2  40.654485 -73.909033    1      1          6  \n",
       "3          0         1          2  40.663680 -73.912124    1      1          6  \n",
       "4          1         1          6  40.791529 -73.940594    1      1          6  "
      ]
     },
     "execution_count": 12,
     "metadata": {},
     "output_type": "execute_result"
    }
   ],
   "source": [
    "# Label Encoding categorical values to make it numerical\n",
    "from sklearn.preprocessing import LabelEncoder\n",
    "\n",
    "def label_encoding_columns(columns_list):\n",
    "    le1 = LabelEncoder()\n",
    "    for column in columns_list:\n",
    "        df[column] = le1.fit_transform(df[column])\n",
    "        \n",
    "label_encoding_columns(['OFNS_DESC', 'PERP_SEX', 'ARREST_BORO', 'AGE_GROUP','PERP_RACE','LAW_CODE'])\n",
    "\n",
    "df.head()"
   ]
  },
  {
   "cell_type": "code",
   "execution_count": 13,
   "metadata": {},
   "outputs": [],
   "source": [
    "y = df.pop('OFNS_DESC')\n",
    "X = df\n",
    "\n",
    "X_train,X_test,y_train,y_test = train_test_split(X,y,test_size=0.2)"
   ]
  },
  {
   "cell_type": "code",
   "execution_count": null,
   "metadata": {},
   "outputs": [],
   "source": []
  },
  {
   "cell_type": "code",
   "execution_count": 26,
   "metadata": {},
   "outputs": [
    {
     "name": "stdout",
     "output_type": "stream",
     "text": [
      "7.64\n"
     ]
    },
    {
     "name": "stderr",
     "output_type": "stream",
     "text": [
      "/home/aakash/.local/lib/python3.7/site-packages/sklearn/ensemble/forest.py:245: FutureWarning: The default value of n_estimators will change from 10 in version 0.20 to 100 in 0.22.\n",
      "  \"10 in version 0.20 to 100 in 0.22.\", FutureWarning)\n"
     ]
    }
   ],
   "source": [
    "from sklearn.ensemble import RandomForestRegressor, RandomForestClassifier\n",
    "from sklearn.metrics import mean_absolute_error\n",
    "from sklearn.metrics import confusion_matrix\n",
    "from sklearn.metrics import average_precision_score\n",
    "\n",
    "forest_model = RandomForestClassifier(random_state=1)\n",
    "forest_model.fit(X_train, y_train)\n",
    "melb_preds = forest_model.predict(X_test)\n",
    "print(mean_absolute_error(y_test, melb_preds))"
   ]
  },
  {
   "cell_type": "code",
   "execution_count": 21,
   "metadata": {},
   "outputs": [
    {
     "data": {
      "text/plain": [
       "array([ 9,  1,  1,  9, 29, 30,  7,  3, 27, 16])"
      ]
     },
     "execution_count": 21,
     "metadata": {},
     "output_type": "execute_result"
    }
   ],
   "source": [
    "melb_preds[:10]"
   ]
  },
  {
   "cell_type": "code",
   "execution_count": 22,
   "metadata": {},
   "outputs": [
    {
     "data": {
      "text/plain": [
       "237     9\n",
       "609     6\n",
       "750     1\n",
       "362     6\n",
       "679    36\n",
       "790     9\n",
       "741     7\n",
       "720     3\n",
       "302    27\n",
       "194    16\n",
       "Name: OFNS_DESC, dtype: int64"
      ]
     },
     "execution_count": 22,
     "metadata": {},
     "output_type": "execute_result"
    }
   ],
   "source": [
    "y_test.head(10)"
   ]
  },
  {
   "cell_type": "code",
   "execution_count": 28,
   "metadata": {},
   "outputs": [
    {
     "ename": "ValueError",
     "evalue": "multiclass format is not supported",
     "output_type": "error",
     "traceback": [
      "\u001b[0;31m---------------------------------------------------------------------------\u001b[0m",
      "\u001b[0;31mValueError\u001b[0m                                Traceback (most recent call last)",
      "\u001b[0;32m<ipython-input-28-33fb77c82b6f>\u001b[0m in \u001b[0;36m<module>\u001b[0;34m\u001b[0m\n\u001b[1;32m      1\u001b[0m \u001b[0mconfusion_matrix\u001b[0m\u001b[0;34m(\u001b[0m\u001b[0my_test\u001b[0m\u001b[0;34m,\u001b[0m \u001b[0mmelb_preds\u001b[0m\u001b[0;34m)\u001b[0m\u001b[0;34m\u001b[0m\u001b[0;34m\u001b[0m\u001b[0m\n\u001b[0;32m----> 2\u001b[0;31m \u001b[0maverage_precision\u001b[0m \u001b[0;34m=\u001b[0m \u001b[0maverage_precision_score\u001b[0m\u001b[0;34m(\u001b[0m\u001b[0my_test\u001b[0m\u001b[0;34m,\u001b[0m \u001b[0mmelb_preds\u001b[0m\u001b[0;34m)\u001b[0m\u001b[0;34m\u001b[0m\u001b[0;34m\u001b[0m\u001b[0m\n\u001b[0m",
      "\u001b[0;32m~/.local/lib/python3.7/site-packages/sklearn/metrics/ranking.py\u001b[0m in \u001b[0;36maverage_precision_score\u001b[0;34m(y_true, y_score, average, pos_label, sample_weight)\u001b[0m\n\u001b[1;32m    238\u001b[0m                                 pos_label=pos_label)\n\u001b[1;32m    239\u001b[0m     return _average_binary_score(average_precision, y_true, y_score,\n\u001b[0;32m--> 240\u001b[0;31m                                  average, sample_weight=sample_weight)\n\u001b[0m\u001b[1;32m    241\u001b[0m \u001b[0;34m\u001b[0m\u001b[0m\n\u001b[1;32m    242\u001b[0m \u001b[0;34m\u001b[0m\u001b[0m\n",
      "\u001b[0;32m~/.local/lib/python3.7/site-packages/sklearn/metrics/base.py\u001b[0m in \u001b[0;36m_average_binary_score\u001b[0;34m(binary_metric, y_true, y_score, average, sample_weight)\u001b[0m\n\u001b[1;32m     71\u001b[0m     \u001b[0my_type\u001b[0m \u001b[0;34m=\u001b[0m \u001b[0mtype_of_target\u001b[0m\u001b[0;34m(\u001b[0m\u001b[0my_true\u001b[0m\u001b[0;34m)\u001b[0m\u001b[0;34m\u001b[0m\u001b[0;34m\u001b[0m\u001b[0m\n\u001b[1;32m     72\u001b[0m     \u001b[0;32mif\u001b[0m \u001b[0my_type\u001b[0m \u001b[0;32mnot\u001b[0m \u001b[0;32min\u001b[0m \u001b[0;34m(\u001b[0m\u001b[0;34m\"binary\"\u001b[0m\u001b[0;34m,\u001b[0m \u001b[0;34m\"multilabel-indicator\"\u001b[0m\u001b[0;34m)\u001b[0m\u001b[0;34m:\u001b[0m\u001b[0;34m\u001b[0m\u001b[0;34m\u001b[0m\u001b[0m\n\u001b[0;32m---> 73\u001b[0;31m         \u001b[0;32mraise\u001b[0m \u001b[0mValueError\u001b[0m\u001b[0;34m(\u001b[0m\u001b[0;34m\"{0} format is not supported\"\u001b[0m\u001b[0;34m.\u001b[0m\u001b[0mformat\u001b[0m\u001b[0;34m(\u001b[0m\u001b[0my_type\u001b[0m\u001b[0;34m)\u001b[0m\u001b[0;34m)\u001b[0m\u001b[0;34m\u001b[0m\u001b[0;34m\u001b[0m\u001b[0m\n\u001b[0m\u001b[1;32m     74\u001b[0m \u001b[0;34m\u001b[0m\u001b[0m\n\u001b[1;32m     75\u001b[0m     \u001b[0;32mif\u001b[0m \u001b[0my_type\u001b[0m \u001b[0;34m==\u001b[0m \u001b[0;34m\"binary\"\u001b[0m\u001b[0;34m:\u001b[0m\u001b[0;34m\u001b[0m\u001b[0;34m\u001b[0m\u001b[0m\n",
      "\u001b[0;31mValueError\u001b[0m: multiclass format is not supported"
     ]
    }
   ],
   "source": [
    "confusion_matrix(y_test, melb_preds)\n",
    "average_precision = average_precision_score(y_test, melb_preds)"
   ]
  },
  {
   "cell_type": "code",
   "execution_count": null,
   "metadata": {},
   "outputs": [],
   "source": []
  }
 ],
 "metadata": {
  "kernelspec": {
   "display_name": "Python 3",
   "language": "python",
   "name": "python3"
  },
  "language_info": {
   "codemirror_mode": {
    "name": "ipython",
    "version": 3
   },
   "file_extension": ".py",
   "mimetype": "text/x-python",
   "name": "python",
   "nbconvert_exporter": "python",
   "pygments_lexer": "ipython3",
   "version": "3.7.5"
  }
 },
 "nbformat": 4,
 "nbformat_minor": 2
}
