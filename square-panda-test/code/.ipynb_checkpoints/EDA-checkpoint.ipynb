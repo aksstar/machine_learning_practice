{
 "cells": [
  {
   "cell_type": "markdown",
   "metadata": {},
   "source": [
    "# Importing python libraries"
   ]
  },
  {
   "cell_type": "code",
   "execution_count": 214,
   "metadata": {},
   "outputs": [],
   "source": [
    "import pandas as pd\n",
    "%matplotlib inline\n",
    "import seaborn as sns\n",
    "import matplotlib.pyplot as plt\n"
   ]
  },
  {
   "cell_type": "markdown",
   "metadata": {},
   "source": [
    "# Reading file"
   ]
  },
  {
   "cell_type": "code",
   "execution_count": 215,
   "metadata": {},
   "outputs": [],
   "source": [
    "df = pd.read_excel('../data/DataTest_Question1.xlsx')"
   ]
  },
  {
   "cell_type": "markdown",
   "metadata": {},
   "source": [
    "# Picking random rows of data"
   ]
  },
  {
   "cell_type": "code",
   "execution_count": 217,
   "metadata": {
    "scrolled": false
   },
   "outputs": [
    {
     "data": {
      "text/html": [
       "<div>\n",
       "<style scoped>\n",
       "    .dataframe tbody tr th:only-of-type {\n",
       "        vertical-align: middle;\n",
       "    }\n",
       "\n",
       "    .dataframe tbody tr th {\n",
       "        vertical-align: top;\n",
       "    }\n",
       "\n",
       "    .dataframe thead th {\n",
       "        text-align: right;\n",
       "    }\n",
       "</style>\n",
       "<table border=\"1\" class=\"dataframe\">\n",
       "  <thead>\n",
       "    <tr style=\"text-align: right;\">\n",
       "      <th></th>\n",
       "      <th>id</th>\n",
       "      <th>childid</th>\n",
       "      <th>endtime</th>\n",
       "      <th>gamename</th>\n",
       "      <th>gamescore</th>\n",
       "      <th>nonsensewords</th>\n",
       "      <th>starttime</th>\n",
       "      <th>userid</th>\n",
       "      <th>word</th>\n",
       "      <th>wordtype</th>\n",
       "      <th>createdat</th>\n",
       "      <th>end_ms_time</th>\n",
       "      <th>start_ms_time</th>\n",
       "      <th>platform</th>\n",
       "      <th>dnc</th>\n",
       "      <th>gender</th>\n",
       "      <th>dateofbirth</th>\n",
       "      <th>duration</th>\n",
       "    </tr>\n",
       "  </thead>\n",
       "  <tbody>\n",
       "    <tr>\n",
       "      <th>151109</th>\n",
       "      <td>5774523d7d9fa22d7c96c362</td>\n",
       "      <td>137</td>\n",
       "      <td>1.467241e+09</td>\n",
       "      <td>Bowling</td>\n",
       "      <td>1.0</td>\n",
       "      <td>False</td>\n",
       "      <td>1.467241e+09</td>\n",
       "      <td>49</td>\n",
       "      <td>CHAT</td>\n",
       "      <td>WORD</td>\n",
       "      <td>2016-06-29 22:57:01.242</td>\n",
       "      <td>NaN</td>\n",
       "      <td>NaN</td>\n",
       "      <td>NaN</td>\n",
       "      <td>3.0</td>\n",
       "      <td>NaN</td>\n",
       "      <td>NaN</td>\n",
       "      <td>39.0</td>\n",
       "    </tr>\n",
       "    <tr>\n",
       "      <th>218931</th>\n",
       "      <td>5873f4443635a5c077c9489a</td>\n",
       "      <td>1352</td>\n",
       "      <td>1.483995e+09</td>\n",
       "      <td>Space Cows</td>\n",
       "      <td>1.0</td>\n",
       "      <td>False</td>\n",
       "      <td>1.483995e+09</td>\n",
       "      <td>600</td>\n",
       "      <td>NaN</td>\n",
       "      <td>LETTER</td>\n",
       "      <td>2017-01-09 20:36:20.625</td>\n",
       "      <td>1.483995e+12</td>\n",
       "      <td>1.483995e+12</td>\n",
       "      <td>NaN</td>\n",
       "      <td>0.0</td>\n",
       "      <td>M</td>\n",
       "      <td>2010-01-20 00:00:00</td>\n",
       "      <td>8.0</td>\n",
       "    </tr>\n",
       "    <tr>\n",
       "      <th>257196</th>\n",
       "      <td>58bcd16a5ca7c8af50bd23c9</td>\n",
       "      <td>1482</td>\n",
       "      <td>1.483743e+09</td>\n",
       "      <td>Space Cows</td>\n",
       "      <td>1.0</td>\n",
       "      <td>False</td>\n",
       "      <td>1.483743e+09</td>\n",
       "      <td>690</td>\n",
       "      <td>NaN</td>\n",
       "      <td>LETTER</td>\n",
       "      <td>2017-03-06 03:03:06.507</td>\n",
       "      <td>1.483743e+12</td>\n",
       "      <td>1.483743e+12</td>\n",
       "      <td>NaN</td>\n",
       "      <td>1.0</td>\n",
       "      <td>NaN</td>\n",
       "      <td>NaN</td>\n",
       "      <td>8.0</td>\n",
       "    </tr>\n",
       "    <tr>\n",
       "      <th>41222</th>\n",
       "      <td>58121a5052b7b8780c3b9bb0</td>\n",
       "      <td>2652</td>\n",
       "      <td>1.477582e+09</td>\n",
       "      <td>Bubbles</td>\n",
       "      <td>1.0</td>\n",
       "      <td>False</td>\n",
       "      <td>1.477582e+09</td>\n",
       "      <td>279</td>\n",
       "      <td>TEN</td>\n",
       "      <td>WORD</td>\n",
       "      <td>2016-10-27 15:16:32.038</td>\n",
       "      <td>1.477582e+12</td>\n",
       "      <td>1.477582e+12</td>\n",
       "      <td>NaN</td>\n",
       "      <td>1.0</td>\n",
       "      <td>O</td>\n",
       "      <td>2016-04-27 00:00:00</td>\n",
       "      <td>51.0</td>\n",
       "    </tr>\n",
       "    <tr>\n",
       "      <th>49790</th>\n",
       "      <td>5850462fee6134a86e38e5d4</td>\n",
       "      <td>901</td>\n",
       "      <td>1.481657e+09</td>\n",
       "      <td>Lagoon</td>\n",
       "      <td>1.0</td>\n",
       "      <td>False</td>\n",
       "      <td>1.481656e+09</td>\n",
       "      <td>392</td>\n",
       "      <td>LION</td>\n",
       "      <td>WORD</td>\n",
       "      <td>2016-12-13 19:04:15.621</td>\n",
       "      <td>1.481657e+12</td>\n",
       "      <td>1.481656e+12</td>\n",
       "      <td>NaN</td>\n",
       "      <td>0.0</td>\n",
       "      <td>M</td>\n",
       "      <td>2009-10-12 00:00:00</td>\n",
       "      <td>58.0</td>\n",
       "    </tr>\n",
       "    <tr>\n",
       "      <th>113324</th>\n",
       "      <td>59286d57b168a0c70a39f506</td>\n",
       "      <td>2630</td>\n",
       "      <td>1.495822e+09</td>\n",
       "      <td>Bowling</td>\n",
       "      <td>1.0</td>\n",
       "      <td>False</td>\n",
       "      <td>1.495822e+09</td>\n",
       "      <td>1171</td>\n",
       "      <td>HAT</td>\n",
       "      <td>WORD</td>\n",
       "      <td>2017-05-26 18:00:55.385</td>\n",
       "      <td>1.495822e+12</td>\n",
       "      <td>1.495822e+12</td>\n",
       "      <td>iOS</td>\n",
       "      <td>0.0</td>\n",
       "      <td>O</td>\n",
       "      <td>NaN</td>\n",
       "      <td>29.0</td>\n",
       "    </tr>\n",
       "    <tr>\n",
       "      <th>20314</th>\n",
       "      <td>584a0d615fee034e509c8c55</td>\n",
       "      <td>1240</td>\n",
       "      <td>1.481249e+09</td>\n",
       "      <td>Bowling</td>\n",
       "      <td>1.0</td>\n",
       "      <td>False</td>\n",
       "      <td>1.481249e+09</td>\n",
       "      <td>538</td>\n",
       "      <td>HIT</td>\n",
       "      <td>WORD</td>\n",
       "      <td>2016-12-09 01:48:17.413</td>\n",
       "      <td>1.481249e+12</td>\n",
       "      <td>1.481249e+12</td>\n",
       "      <td>NaN</td>\n",
       "      <td>0.0</td>\n",
       "      <td>M</td>\n",
       "      <td>2012-06-06 00:00:00</td>\n",
       "      <td>71.0</td>\n",
       "    </tr>\n",
       "    <tr>\n",
       "      <th>171655</th>\n",
       "      <td>58e51a76b7423af611d7a164</td>\n",
       "      <td>2525</td>\n",
       "      <td>1.491410e+09</td>\n",
       "      <td>Monster Rhymes</td>\n",
       "      <td>1.0</td>\n",
       "      <td>False</td>\n",
       "      <td>1.491410e+09</td>\n",
       "      <td>1046</td>\n",
       "      <td>JAW</td>\n",
       "      <td>WORD</td>\n",
       "      <td>2017-04-05 16:25:26.657</td>\n",
       "      <td>1.491410e+12</td>\n",
       "      <td>1.491410e+12</td>\n",
       "      <td>NaN</td>\n",
       "      <td>1.0</td>\n",
       "      <td>M</td>\n",
       "      <td>NaN</td>\n",
       "      <td>148.0</td>\n",
       "    </tr>\n",
       "    <tr>\n",
       "      <th>92064</th>\n",
       "      <td>58c7d900e590fab3738a921f</td>\n",
       "      <td>2488</td>\n",
       "      <td>1.489492e+09</td>\n",
       "      <td>Lagoon</td>\n",
       "      <td>0.0</td>\n",
       "      <td>True</td>\n",
       "      <td>1.489492e+09</td>\n",
       "      <td>1144</td>\n",
       "      <td>ABCD</td>\n",
       "      <td>WORD</td>\n",
       "      <td>2017-03-14 11:50:24.378</td>\n",
       "      <td>1.489492e+12</td>\n",
       "      <td>1.489492e+12</td>\n",
       "      <td>NaN</td>\n",
       "      <td>0.0</td>\n",
       "      <td>M</td>\n",
       "      <td>2015-06-15 00:00:00</td>\n",
       "      <td>48.0</td>\n",
       "    </tr>\n",
       "    <tr>\n",
       "      <th>286679</th>\n",
       "      <td>591ef8f61c948140440852fc</td>\n",
       "      <td>3392</td>\n",
       "      <td>1.495202e+09</td>\n",
       "      <td>Lagoon</td>\n",
       "      <td>1.0</td>\n",
       "      <td>False</td>\n",
       "      <td>1.495202e+09</td>\n",
       "      <td>1324</td>\n",
       "      <td>BLACK</td>\n",
       "      <td>WORD</td>\n",
       "      <td>2017-05-19 13:53:58.686</td>\n",
       "      <td>1.495202e+12</td>\n",
       "      <td>1.495202e+12</td>\n",
       "      <td>iOS</td>\n",
       "      <td>0.0</td>\n",
       "      <td>O</td>\n",
       "      <td>NaN</td>\n",
       "      <td>47.0</td>\n",
       "    </tr>\n",
       "  </tbody>\n",
       "</table>\n",
       "</div>"
      ],
      "text/plain": [
       "                              id  childid       endtime        gamename  \\\n",
       "151109  5774523d7d9fa22d7c96c362      137  1.467241e+09         Bowling   \n",
       "218931  5873f4443635a5c077c9489a     1352  1.483995e+09      Space Cows   \n",
       "257196  58bcd16a5ca7c8af50bd23c9     1482  1.483743e+09      Space Cows   \n",
       "41222   58121a5052b7b8780c3b9bb0     2652  1.477582e+09         Bubbles   \n",
       "49790   5850462fee6134a86e38e5d4      901  1.481657e+09          Lagoon   \n",
       "113324  59286d57b168a0c70a39f506     2630  1.495822e+09         Bowling   \n",
       "20314   584a0d615fee034e509c8c55     1240  1.481249e+09         Bowling   \n",
       "171655  58e51a76b7423af611d7a164     2525  1.491410e+09  Monster Rhymes   \n",
       "92064   58c7d900e590fab3738a921f     2488  1.489492e+09          Lagoon   \n",
       "286679  591ef8f61c948140440852fc     3392  1.495202e+09          Lagoon   \n",
       "\n",
       "        gamescore  nonsensewords     starttime  userid   word wordtype  \\\n",
       "151109        1.0          False  1.467241e+09      49   CHAT     WORD   \n",
       "218931        1.0          False  1.483995e+09     600    NaN   LETTER   \n",
       "257196        1.0          False  1.483743e+09     690    NaN   LETTER   \n",
       "41222         1.0          False  1.477582e+09     279    TEN     WORD   \n",
       "49790         1.0          False  1.481656e+09     392   LION     WORD   \n",
       "113324        1.0          False  1.495822e+09    1171    HAT     WORD   \n",
       "20314         1.0          False  1.481249e+09     538    HIT     WORD   \n",
       "171655        1.0          False  1.491410e+09    1046    JAW     WORD   \n",
       "92064         0.0           True  1.489492e+09    1144   ABCD     WORD   \n",
       "286679        1.0          False  1.495202e+09    1324  BLACK     WORD   \n",
       "\n",
       "                     createdat   end_ms_time  start_ms_time platform  dnc  \\\n",
       "151109 2016-06-29 22:57:01.242           NaN            NaN      NaN  3.0   \n",
       "218931 2017-01-09 20:36:20.625  1.483995e+12   1.483995e+12      NaN  0.0   \n",
       "257196 2017-03-06 03:03:06.507  1.483743e+12   1.483743e+12      NaN  1.0   \n",
       "41222  2016-10-27 15:16:32.038  1.477582e+12   1.477582e+12      NaN  1.0   \n",
       "49790  2016-12-13 19:04:15.621  1.481657e+12   1.481656e+12      NaN  0.0   \n",
       "113324 2017-05-26 18:00:55.385  1.495822e+12   1.495822e+12      iOS  0.0   \n",
       "20314  2016-12-09 01:48:17.413  1.481249e+12   1.481249e+12      NaN  0.0   \n",
       "171655 2017-04-05 16:25:26.657  1.491410e+12   1.491410e+12      NaN  1.0   \n",
       "92064  2017-03-14 11:50:24.378  1.489492e+12   1.489492e+12      NaN  0.0   \n",
       "286679 2017-05-19 13:53:58.686  1.495202e+12   1.495202e+12      iOS  0.0   \n",
       "\n",
       "       gender          dateofbirth  duration  \n",
       "151109    NaN                  NaN      39.0  \n",
       "218931      M  2010-01-20 00:00:00       8.0  \n",
       "257196    NaN                  NaN       8.0  \n",
       "41222       O  2016-04-27 00:00:00      51.0  \n",
       "49790       M  2009-10-12 00:00:00      58.0  \n",
       "113324      O                  NaN      29.0  \n",
       "20314       M  2012-06-06 00:00:00      71.0  \n",
       "171655      M                  NaN     148.0  \n",
       "92064       M  2015-06-15 00:00:00      48.0  \n",
       "286679      O                  NaN      47.0  "
      ]
     },
     "execution_count": 217,
     "metadata": {},
     "output_type": "execute_result"
    }
   ],
   "source": [
    "df.sample(10)"
   ]
  },
  {
   "cell_type": "markdown",
   "metadata": {},
   "source": [
    "# Checking data quality using info and describe"
   ]
  },
  {
   "cell_type": "code",
   "execution_count": 218,
   "metadata": {},
   "outputs": [
    {
     "name": "stdout",
     "output_type": "stream",
     "text": [
      "<class 'pandas.core.frame.DataFrame'>\n",
      "RangeIndex: 309625 entries, 0 to 309624\n",
      "Data columns (total 18 columns):\n",
      "id               309625 non-null object\n",
      "childid          309625 non-null int64\n",
      "endtime          309229 non-null float64\n",
      "gamename         309527 non-null object\n",
      "gamescore        287306 non-null float64\n",
      "nonsensewords    309625 non-null bool\n",
      "starttime        309229 non-null float64\n",
      "userid           309625 non-null int64\n",
      "word             281590 non-null object\n",
      "wordtype         309625 non-null object\n",
      "createdat        309625 non-null datetime64[ns]\n",
      "end_ms_time      266529 non-null float64\n",
      "start_ms_time    266529 non-null float64\n",
      "platform         104375 non-null object\n",
      "dnc              309603 non-null float64\n",
      "gender           308235 non-null object\n",
      "dateofbirth      290038 non-null object\n",
      "duration         309599 non-null float64\n",
      "dtypes: bool(1), datetime64[ns](1), float64(7), int64(2), object(7)\n",
      "memory usage: 40.5+ MB\n"
     ]
    }
   ],
   "source": [
    "df.info()"
   ]
  },
  {
   "cell_type": "code",
   "execution_count": 219,
   "metadata": {},
   "outputs": [
    {
     "data": {
      "text/html": [
       "<div>\n",
       "<style scoped>\n",
       "    .dataframe tbody tr th:only-of-type {\n",
       "        vertical-align: middle;\n",
       "    }\n",
       "\n",
       "    .dataframe tbody tr th {\n",
       "        vertical-align: top;\n",
       "    }\n",
       "\n",
       "    .dataframe thead th {\n",
       "        text-align: right;\n",
       "    }\n",
       "</style>\n",
       "<table border=\"1\" class=\"dataframe\">\n",
       "  <thead>\n",
       "    <tr style=\"text-align: right;\">\n",
       "      <th></th>\n",
       "      <th>childid</th>\n",
       "      <th>endtime</th>\n",
       "      <th>gamescore</th>\n",
       "      <th>starttime</th>\n",
       "      <th>userid</th>\n",
       "      <th>end_ms_time</th>\n",
       "      <th>start_ms_time</th>\n",
       "      <th>dnc</th>\n",
       "      <th>duration</th>\n",
       "    </tr>\n",
       "  </thead>\n",
       "  <tbody>\n",
       "    <tr>\n",
       "      <th>count</th>\n",
       "      <td>309625.000000</td>\n",
       "      <td>3.092290e+05</td>\n",
       "      <td>287306.000000</td>\n",
       "      <td>3.092290e+05</td>\n",
       "      <td>309625.000000</td>\n",
       "      <td>2.665290e+05</td>\n",
       "      <td>2.665290e+05</td>\n",
       "      <td>309603.000000</td>\n",
       "      <td>3.095990e+05</td>\n",
       "    </tr>\n",
       "    <tr>\n",
       "      <th>mean</th>\n",
       "      <td>1787.744717</td>\n",
       "      <td>1.487477e+09</td>\n",
       "      <td>6.597454</td>\n",
       "      <td>1.487476e+09</td>\n",
       "      <td>755.911729</td>\n",
       "      <td>1.489716e+12</td>\n",
       "      <td>1.489716e+12</td>\n",
       "      <td>0.288434</td>\n",
       "      <td>7.159713e+02</td>\n",
       "    </tr>\n",
       "    <tr>\n",
       "      <th>std</th>\n",
       "      <td>1032.638467</td>\n",
       "      <td>7.798235e+06</td>\n",
       "      <td>225.179408</td>\n",
       "      <td>7.798267e+06</td>\n",
       "      <td>491.305849</td>\n",
       "      <td>5.596277e+09</td>\n",
       "      <td>5.596344e+09</td>\n",
       "      <td>0.530894</td>\n",
       "      <td>1.718228e+04</td>\n",
       "    </tr>\n",
       "    <tr>\n",
       "      <th>min</th>\n",
       "      <td>1.000000</td>\n",
       "      <td>1.464731e+09</td>\n",
       "      <td>0.000000</td>\n",
       "      <td>1.464731e+09</td>\n",
       "      <td>1.000000</td>\n",
       "      <td>1.476988e+12</td>\n",
       "      <td>1.476988e+12</td>\n",
       "      <td>0.000000</td>\n",
       "      <td>-2.591330e+05</td>\n",
       "    </tr>\n",
       "    <tr>\n",
       "      <th>25%</th>\n",
       "      <td>998.000000</td>\n",
       "      <td>1.483152e+09</td>\n",
       "      <td>1.000000</td>\n",
       "      <td>1.483152e+09</td>\n",
       "      <td>387.000000</td>\n",
       "      <td>1.485114e+12</td>\n",
       "      <td>1.485113e+12</td>\n",
       "      <td>0.000000</td>\n",
       "      <td>2.300000e+01</td>\n",
       "    </tr>\n",
       "    <tr>\n",
       "      <th>50%</th>\n",
       "      <td>1650.000000</td>\n",
       "      <td>1.488382e+09</td>\n",
       "      <td>1.000000</td>\n",
       "      <td>1.488382e+09</td>\n",
       "      <td>644.000000</td>\n",
       "      <td>1.489949e+12</td>\n",
       "      <td>1.489949e+12</td>\n",
       "      <td>0.000000</td>\n",
       "      <td>4.400000e+01</td>\n",
       "    </tr>\n",
       "    <tr>\n",
       "      <th>75%</th>\n",
       "      <td>2612.000000</td>\n",
       "      <td>1.493735e+09</td>\n",
       "      <td>1.000000</td>\n",
       "      <td>1.493735e+09</td>\n",
       "      <td>1136.000000</td>\n",
       "      <td>1.494429e+12</td>\n",
       "      <td>1.494429e+12</td>\n",
       "      <td>1.000000</td>\n",
       "      <td>8.000000e+01</td>\n",
       "    </tr>\n",
       "    <tr>\n",
       "      <th>max</th>\n",
       "      <td>3947.000000</td>\n",
       "      <td>1.500009e+09</td>\n",
       "      <td>9000.000000</td>\n",
       "      <td>1.500009e+09</td>\n",
       "      <td>1909.000000</td>\n",
       "      <td>1.500009e+12</td>\n",
       "      <td>1.500009e+12</td>\n",
       "      <td>3.000000</td>\n",
       "      <td>2.348243e+06</td>\n",
       "    </tr>\n",
       "  </tbody>\n",
       "</table>\n",
       "</div>"
      ],
      "text/plain": [
       "             childid       endtime      gamescore     starttime  \\\n",
       "count  309625.000000  3.092290e+05  287306.000000  3.092290e+05   \n",
       "mean     1787.744717  1.487477e+09       6.597454  1.487476e+09   \n",
       "std      1032.638467  7.798235e+06     225.179408  7.798267e+06   \n",
       "min         1.000000  1.464731e+09       0.000000  1.464731e+09   \n",
       "25%       998.000000  1.483152e+09       1.000000  1.483152e+09   \n",
       "50%      1650.000000  1.488382e+09       1.000000  1.488382e+09   \n",
       "75%      2612.000000  1.493735e+09       1.000000  1.493735e+09   \n",
       "max      3947.000000  1.500009e+09    9000.000000  1.500009e+09   \n",
       "\n",
       "              userid   end_ms_time  start_ms_time            dnc      duration  \n",
       "count  309625.000000  2.665290e+05   2.665290e+05  309603.000000  3.095990e+05  \n",
       "mean      755.911729  1.489716e+12   1.489716e+12       0.288434  7.159713e+02  \n",
       "std       491.305849  5.596277e+09   5.596344e+09       0.530894  1.718228e+04  \n",
       "min         1.000000  1.476988e+12   1.476988e+12       0.000000 -2.591330e+05  \n",
       "25%       387.000000  1.485114e+12   1.485113e+12       0.000000  2.300000e+01  \n",
       "50%       644.000000  1.489949e+12   1.489949e+12       0.000000  4.400000e+01  \n",
       "75%      1136.000000  1.494429e+12   1.494429e+12       1.000000  8.000000e+01  \n",
       "max      1909.000000  1.500009e+12   1.500009e+12       3.000000  2.348243e+06  "
      ]
     },
     "execution_count": 219,
     "metadata": {},
     "output_type": "execute_result"
    }
   ],
   "source": [
    "df.describe()"
   ]
  },
  {
   "cell_type": "markdown",
   "metadata": {},
   "source": [
    "## Initial findings :\n",
    "- Max Users (Adults) : 1909\n",
    "- Max Children : 3947\n",
    "- Analomaly in Gamescore : 75percentile is 1 and 100percentile is 9000\n",
    "- Anaomaly in Duration : Time spent should not be negative, max time is of power 10raise to 6.\n",
    "- Platform column has max null values"
   ]
  },
  {
   "cell_type": "markdown",
   "metadata": {},
   "source": [
    "# Column wise analysis"
   ]
  },
  {
   "cell_type": "markdown",
   "metadata": {},
   "source": [
    "## DNC “Do Not Consider”. You should only use rows where dnc = 0.\n",
    "- Deleting these rows"
   ]
  },
  {
   "cell_type": "code",
   "execution_count": 267,
   "metadata": {},
   "outputs": [
    {
     "name": "stdout",
     "output_type": "stream",
     "text": [
      "<class 'pandas.core.frame.DataFrame'>\n",
      "Int64Index: 228209 entries, 4 to 309621\n",
      "Data columns (total 18 columns):\n",
      "id               228209 non-null object\n",
      "childid          228209 non-null int64\n",
      "endtime          228120 non-null float64\n",
      "gamename         228209 non-null object\n",
      "gamescore        212377 non-null float64\n",
      "nonsensewords    228209 non-null bool\n",
      "starttime        228120 non-null float64\n",
      "userid           228209 non-null int64\n",
      "word             207635 non-null object\n",
      "wordtype         228209 non-null object\n",
      "createdat        228209 non-null datetime64[ns]\n",
      "end_ms_time      197429 non-null float64\n",
      "start_ms_time    197429 non-null float64\n",
      "platform         88499 non-null object\n",
      "dnc              228209 non-null float64\n",
      "gender           228177 non-null object\n",
      "dateofbirth      214215 non-null object\n",
      "duration         228188 non-null float64\n",
      "dtypes: bool(1), datetime64[ns](1), float64(7), int64(2), object(7)\n",
      "memory usage: 31.6+ MB\n"
     ]
    }
   ],
   "source": [
    "new_df = df[df.dnc==0]\n",
    "new_df.info()"
   ]
  },
  {
   "cell_type": "code",
   "execution_count": 268,
   "metadata": {},
   "outputs": [
    {
     "data": {
      "text/html": [
       "<div>\n",
       "<style scoped>\n",
       "    .dataframe tbody tr th:only-of-type {\n",
       "        vertical-align: middle;\n",
       "    }\n",
       "\n",
       "    .dataframe tbody tr th {\n",
       "        vertical-align: top;\n",
       "    }\n",
       "\n",
       "    .dataframe thead th {\n",
       "        text-align: right;\n",
       "    }\n",
       "</style>\n",
       "<table border=\"1\" class=\"dataframe\">\n",
       "  <thead>\n",
       "    <tr style=\"text-align: right;\">\n",
       "      <th></th>\n",
       "      <th>childid</th>\n",
       "      <th>endtime</th>\n",
       "      <th>gamescore</th>\n",
       "      <th>starttime</th>\n",
       "      <th>userid</th>\n",
       "      <th>end_ms_time</th>\n",
       "      <th>start_ms_time</th>\n",
       "      <th>dnc</th>\n",
       "      <th>duration</th>\n",
       "    </tr>\n",
       "  </thead>\n",
       "  <tbody>\n",
       "    <tr>\n",
       "      <th>count</th>\n",
       "      <td>228209.000000</td>\n",
       "      <td>2.281200e+05</td>\n",
       "      <td>212377.000000</td>\n",
       "      <td>2.281200e+05</td>\n",
       "      <td>228209.000000</td>\n",
       "      <td>1.974290e+05</td>\n",
       "      <td>1.974290e+05</td>\n",
       "      <td>228209.0</td>\n",
       "      <td>2.281880e+05</td>\n",
       "    </tr>\n",
       "    <tr>\n",
       "      <th>mean</th>\n",
       "      <td>1900.704613</td>\n",
       "      <td>1.488443e+09</td>\n",
       "      <td>0.979480</td>\n",
       "      <td>1.488442e+09</td>\n",
       "      <td>844.845146</td>\n",
       "      <td>1.490645e+12</td>\n",
       "      <td>1.490644e+12</td>\n",
       "      <td>0.0</td>\n",
       "      <td>5.885544e+02</td>\n",
       "    </tr>\n",
       "    <tr>\n",
       "      <th>std</th>\n",
       "      <td>1061.973449</td>\n",
       "      <td>7.644869e+06</td>\n",
       "      <td>0.982598</td>\n",
       "      <td>7.644892e+06</td>\n",
       "      <td>496.756520</td>\n",
       "      <td>5.333123e+09</td>\n",
       "      <td>5.333082e+09</td>\n",
       "      <td>0.0</td>\n",
       "      <td>1.613515e+04</td>\n",
       "    </tr>\n",
       "    <tr>\n",
       "      <th>min</th>\n",
       "      <td>183.000000</td>\n",
       "      <td>1.468548e+09</td>\n",
       "      <td>0.000000</td>\n",
       "      <td>1.468548e+09</td>\n",
       "      <td>61.000000</td>\n",
       "      <td>1.478115e+12</td>\n",
       "      <td>1.478115e+12</td>\n",
       "      <td>0.0</td>\n",
       "      <td>0.000000e+00</td>\n",
       "    </tr>\n",
       "    <tr>\n",
       "      <th>25%</th>\n",
       "      <td>939.000000</td>\n",
       "      <td>1.484066e+09</td>\n",
       "      <td>1.000000</td>\n",
       "      <td>1.484065e+09</td>\n",
       "      <td>420.000000</td>\n",
       "      <td>1.486584e+12</td>\n",
       "      <td>1.486583e+12</td>\n",
       "      <td>0.0</td>\n",
       "      <td>2.500000e+01</td>\n",
       "    </tr>\n",
       "    <tr>\n",
       "      <th>50%</th>\n",
       "      <td>1879.000000</td>\n",
       "      <td>1.489762e+09</td>\n",
       "      <td>1.000000</td>\n",
       "      <td>1.489762e+09</td>\n",
       "      <td>810.000000</td>\n",
       "      <td>1.490899e+12</td>\n",
       "      <td>1.490899e+12</td>\n",
       "      <td>0.0</td>\n",
       "      <td>4.600000e+01</td>\n",
       "    </tr>\n",
       "    <tr>\n",
       "      <th>75%</th>\n",
       "      <td>2729.000000</td>\n",
       "      <td>1.494385e+09</td>\n",
       "      <td>1.000000</td>\n",
       "      <td>1.494384e+09</td>\n",
       "      <td>1218.000000</td>\n",
       "      <td>1.495032e+12</td>\n",
       "      <td>1.495031e+12</td>\n",
       "      <td>0.0</td>\n",
       "      <td>8.100000e+01</td>\n",
       "    </tr>\n",
       "    <tr>\n",
       "      <th>max</th>\n",
       "      <td>3947.000000</td>\n",
       "      <td>1.500009e+09</td>\n",
       "      <td>8.000000</td>\n",
       "      <td>1.500009e+09</td>\n",
       "      <td>1909.000000</td>\n",
       "      <td>1.500009e+12</td>\n",
       "      <td>1.500009e+12</td>\n",
       "      <td>0.0</td>\n",
       "      <td>2.348243e+06</td>\n",
       "    </tr>\n",
       "  </tbody>\n",
       "</table>\n",
       "</div>"
      ],
      "text/plain": [
       "             childid       endtime      gamescore     starttime  \\\n",
       "count  228209.000000  2.281200e+05  212377.000000  2.281200e+05   \n",
       "mean     1900.704613  1.488443e+09       0.979480  1.488442e+09   \n",
       "std      1061.973449  7.644869e+06       0.982598  7.644892e+06   \n",
       "min       183.000000  1.468548e+09       0.000000  1.468548e+09   \n",
       "25%       939.000000  1.484066e+09       1.000000  1.484065e+09   \n",
       "50%      1879.000000  1.489762e+09       1.000000  1.489762e+09   \n",
       "75%      2729.000000  1.494385e+09       1.000000  1.494384e+09   \n",
       "max      3947.000000  1.500009e+09       8.000000  1.500009e+09   \n",
       "\n",
       "              userid   end_ms_time  start_ms_time       dnc      duration  \n",
       "count  228209.000000  1.974290e+05   1.974290e+05  228209.0  2.281880e+05  \n",
       "mean      844.845146  1.490645e+12   1.490644e+12       0.0  5.885544e+02  \n",
       "std       496.756520  5.333123e+09   5.333082e+09       0.0  1.613515e+04  \n",
       "min        61.000000  1.478115e+12   1.478115e+12       0.0  0.000000e+00  \n",
       "25%       420.000000  1.486584e+12   1.486583e+12       0.0  2.500000e+01  \n",
       "50%       810.000000  1.490899e+12   1.490899e+12       0.0  4.600000e+01  \n",
       "75%      1218.000000  1.495032e+12   1.495031e+12       0.0  8.100000e+01  \n",
       "max      1909.000000  1.500009e+12   1.500009e+12       0.0  2.348243e+06  "
      ]
     },
     "execution_count": 268,
     "metadata": {},
     "output_type": "execute_result"
    }
   ],
   "source": [
    "new_df.describe()"
   ]
  },
  {
   "cell_type": "markdown",
   "metadata": {},
   "source": [
    "# Findings : \n",
    "- Deleting DNC rows \n",
    "- Decreased total rows count from 309625 to 228209\n",
    "- Decreased total memory usage from 40mb to 31mb"
   ]
  },
  {
   "cell_type": "markdown",
   "metadata": {},
   "source": [
    "# Data cleaning"
   ]
  },
  {
   "cell_type": "code",
   "execution_count": 269,
   "metadata": {},
   "outputs": [
    {
     "data": {
      "text/plain": [
       "<matplotlib.axes._subplots.AxesSubplot at 0x7fdc4baa4150>"
      ]
     },
     "execution_count": 269,
     "metadata": {},
     "output_type": "execute_result"
    },
    {
     "data": {
      "image/png": "[encoded data removed]",
      "text/plain": [
       "<Figure size 432x288 with 1 Axes>"
      ]
     },
     "metadata": {
      "needs_background": "light"
     },
     "output_type": "display_data"
    }
   ],
   "source": [
    "sns.boxplot(x=new_df['duration'])"
   ]
  },
  {
   "cell_type": "markdown",
   "metadata": {},
   "source": [
    "# Outliers present in right side.\n",
    "- Removing outliter taking data upto 99%"
   ]
  },
  {
   "cell_type": "code",
   "execution_count": 270,
   "metadata": {},
   "outputs": [
    {
     "name": "stdout",
     "output_type": "stream",
     "text": [
      "1th percentile is  0.0\n",
      "95th percentile is  246.0\n"
     ]
    }
   ],
   "source": [
    "print(\"1th percentile is \",new_df.duration.quantile(0.01))\n",
    "print(\"95th percentile is \",new_df.duration.quantile(0.95))\n",
    "new_df=new_df[new_df.duration < new_df.duration.quantile(.95)]"
   ]
  },
  {
   "cell_type": "code",
   "execution_count": 271,
   "metadata": {},
   "outputs": [
    {
     "data": {
      "text/plain": [
       "<matplotlib.axes._subplots.AxesSubplot at 0x7fdc4ece7ad0>"
      ]
     },
     "execution_count": 271,
     "metadata": {},
     "output_type": "execute_result"
    },
    {
     "data": {
      "image/png": "[encoded data removed]",
      "text/plain": [
       "<Figure size 432x288 with 1 Axes>"
      ]
     },
     "metadata": {
      "needs_background": "light"
     },
     "output_type": "display_data"
    }
   ],
   "source": [
    "sns.boxplot(x=new_df['duration'])"
   ]
  },
  {
   "cell_type": "code",
   "execution_count": 272,
   "metadata": {},
   "outputs": [],
   "source": [
    "# import numpy as np\n",
    "# from scipy import stats\n",
    "\n",
    "# z = np.abs(stats.zscore(new_df.duration))\n",
    "# new_df = new_df[(z < 3)]"
   ]
  },
  {
   "cell_type": "markdown",
   "metadata": {},
   "source": [
    "# Most of the game score is 1.\n",
    "- Need to do more research on this"
   ]
  },
  {
   "cell_type": "code",
   "execution_count": 273,
   "metadata": {},
   "outputs": [
    {
     "name": "stdout",
     "output_type": "stream",
     "text": [
      "1th percentile is  0.0\n",
      "95th percentile is  1.0\n"
     ]
    },
    {
     "data": {
      "text/plain": [
       "<matplotlib.axes._subplots.AxesSubplot at 0x7fdc5309e690>"
      ]
     },
     "execution_count": 273,
     "metadata": {},
     "output_type": "execute_result"
    },
    {
     "data": {
      "image/png": "[encoded data removed]",
      "text/plain": [
       "<Figure size 432x288 with 1 Axes>"
      ]
     },
     "metadata": {
      "needs_background": "light"
     },
     "output_type": "display_data"
    }
   ],
   "source": [
    "print(\"1th percentile is \",new_df.gamescore.quantile(0.01))\n",
    "print(\"95th percentile is \",new_df.gamescore.quantile(0.90))\n",
    "sns.boxplot(x=new_df['gamescore'])"
   ]
  },
  {
   "cell_type": "code",
   "execution_count": 274,
   "metadata": {},
   "outputs": [
    {
     "name": "stdout",
     "output_type": "stream",
     "text": [
      "<class 'pandas.core.frame.DataFrame'>\n",
      "Int64Index: 216724 entries, 4 to 309621\n",
      "Data columns (total 18 columns):\n",
      "id               216724 non-null object\n",
      "childid          216724 non-null int64\n",
      "endtime          216656 non-null float64\n",
      "gamename         216724 non-null object\n",
      "gamescore        200988 non-null float64\n",
      "nonsensewords    216724 non-null bool\n",
      "starttime        216656 non-null float64\n",
      "userid           216724 non-null int64\n",
      "word             196331 non-null object\n",
      "wordtype         216724 non-null object\n",
      "createdat        216724 non-null datetime64[ns]\n",
      "end_ms_time      186886 non-null float64\n",
      "start_ms_time    186886 non-null float64\n",
      "platform         83465 non-null object\n",
      "dnc              216724 non-null float64\n",
      "gender           216704 non-null object\n",
      "dateofbirth      203213 non-null object\n",
      "duration         216724 non-null float64\n",
      "dtypes: bool(1), datetime64[ns](1), float64(7), int64(2), object(7)\n",
      "memory usage: 30.0+ MB\n"
     ]
    }
   ],
   "source": [
    "new_df.info()"
   ]
  },
  {
   "cell_type": "markdown",
   "metadata": {},
   "source": [
    "# Unique values in each column"
   ]
  },
  {
   "cell_type": "code",
   "execution_count": 275,
   "metadata": {},
   "outputs": [
    {
     "name": "stdout",
     "output_type": "stream",
     "text": [
      "Column name:  id :: Unique values :  216724\n",
      "Column name:  childid :: Unique values :  2760\n",
      "Column name:  endtime :: Unique values :  213581\n",
      "Column name:  gamename :: Unique values :  10\n",
      "Column name:  gamescore :: Unique values :  9\n",
      "Column name:  nonsensewords :: Unique values :  2\n",
      "Column name:  starttime :: Unique values :  213098\n",
      "Column name:  userid :: Unique values :  1600\n",
      "Column name:  word :: Unique values :  24747\n",
      "Column name:  wordtype :: Unique values :  2\n",
      "Column name:  createdat :: Unique values :  216583\n",
      "Column name:  end_ms_time :: Unique values :  184592\n",
      "Column name:  start_ms_time :: Unique values :  184591\n",
      "Column name:  platform :: Unique values :  2\n",
      "Column name:  dnc :: Unique values :  1\n",
      "Column name:  gender :: Unique values :  3\n",
      "Column name:  dateofbirth :: Unique values :  1590\n",
      "Column name:  duration :: Unique values :  246\n"
     ]
    }
   ],
   "source": [
    "for col in new_df.columns:\n",
    "    print(\"Column name: \",col,\":: Unique values : \",new_df[col].nunique())"
   ]
  },
  {
   "cell_type": "markdown",
   "metadata": {},
   "source": [
    "# Intution : \n",
    "- dob is unique for userid and not childid"
   ]
  },
  {
   "cell_type": "markdown",
   "metadata": {},
   "source": [
    "# Duration plot"
   ]
  },
  {
   "cell_type": "code",
   "execution_count": 276,
   "metadata": {
    "scrolled": true
   },
   "outputs": [
    {
     "data": {
      "text/plain": [
       "44.0"
      ]
     },
     "execution_count": 276,
     "metadata": {},
     "output_type": "execute_result"
    },
    {
     "data": {
      "image/png": "[encoded data removed]",
      "text/plain": [
       "<Figure size 432x288 with 1 Axes>"
      ]
     },
     "metadata": {
      "needs_background": "light"
     },
     "output_type": "display_data"
    }
   ],
   "source": [
    "sns.distplot(new_df['duration'])\n",
    "new_df['duration'].median()"
   ]
  },
  {
   "cell_type": "markdown",
   "metadata": {},
   "source": [
    "# Gender Distribution"
   ]
  },
  {
   "cell_type": "code",
   "execution_count": 277,
   "metadata": {},
   "outputs": [
    {
     "data": {
      "text/plain": [
       "<matplotlib.axes._subplots.AxesSubplot at 0x7fdc560e9b90>"
      ]
     },
     "execution_count": 277,
     "metadata": {},
     "output_type": "execute_result"
    },
    {
     "data": {
      "image/png": "[encoded data removed]",
      "text/plain": [
       "<Figure size 1152x576 with 2 Axes>"
      ]
     },
     "metadata": {
      "needs_background": "light"
     },
     "output_type": "display_data"
    }
   ],
   "source": [
    "plt.figure(figsize=(16,8))\n",
    "ax1 = plt.subplot(121, aspect='equal')\n",
    "new_df['gender'].value_counts().plot(kind='pie',ax=ax1,autopct='%1.1f%%')\n",
    "ax2 = plt.subplot(122)\n",
    "new_df['gender'].value_counts().plot(kind='bar',ax=ax2)"
   ]
  },
  {
   "cell_type": "markdown",
   "metadata": {},
   "source": [
    "# Game wise distribution"
   ]
  },
  {
   "cell_type": "code",
   "execution_count": 278,
   "metadata": {},
   "outputs": [
    {
     "data": {
      "text/plain": [
       "<matplotlib.axes._subplots.AxesSubplot at 0x7fdc37e74690>"
      ]
     },
     "execution_count": 278,
     "metadata": {},
     "output_type": "execute_result"
    },
    {
     "data": {
      "image/png": "[encoded data removed]",
      "text/plain": [
       "<Figure size 1152x576 with 2 Axes>"
      ]
     },
     "metadata": {
      "needs_background": "light"
     },
     "output_type": "display_data"
    }
   ],
   "source": [
    "plt.figure(figsize=(16,8))\n",
    "ax1 = plt.subplot(121, aspect='equal')\n",
    "new_df['gamename'].value_counts().plot(kind='pie',autopct='%1.1f%%',ax=ax1)\n",
    "ax2 = plt.subplot(122)\n",
    "new_df['gamename'].value_counts().plot(kind='bar',ax=ax2)\n",
    "\n"
   ]
  },
  {
   "cell_type": "markdown",
   "metadata": {},
   "source": [
    "# Platform wise distribution"
   ]
  },
  {
   "cell_type": "code",
   "execution_count": 279,
   "metadata": {},
   "outputs": [
    {
     "data": {
      "text/plain": [
       "<matplotlib.axes._subplots.AxesSubplot at 0x7fdc4d656a90>"
      ]
     },
     "execution_count": 279,
     "metadata": {},
     "output_type": "execute_result"
    },
    {
     "data": {
      "image/png": "[encoded data removed]",
      "text/plain": [
       "<Figure size 1152x576 with 2 Axes>"
      ]
     },
     "metadata": {
      "needs_background": "light"
     },
     "output_type": "display_data"
    }
   ],
   "source": [
    "plt.figure(figsize=(16,8))\n",
    "ax1 = plt.subplot(121, aspect='equal')\n",
    "new_df['platform'].value_counts().plot(kind='pie',autopct='%1.1f%%',ax=ax1)\n",
    "ax2 = plt.subplot(122)\n",
    "new_df['platform'].value_counts().plot(kind='bar',ax=ax2)\n",
    "\n"
   ]
  },
  {
   "cell_type": "code",
   "execution_count": 280,
   "metadata": {},
   "outputs": [
    {
     "data": {
      "text/plain": [
       "<matplotlib.axes._subplots.AxesSubplot at 0x7fdc47edf410>"
      ]
     },
     "execution_count": 280,
     "metadata": {},
     "output_type": "execute_result"
    },
    {
     "data": {
      "image/png": "[encoded data removed]",
      "text/plain": [
       "<Figure size 432x288 with 1 Axes>"
      ]
     },
     "metadata": {
      "needs_background": "light"
     },
     "output_type": "display_data"
    }
   ],
   "source": [
    "new_df['platform'].value_counts().plot(kind='bar')"
   ]
  },
  {
   "cell_type": "markdown",
   "metadata": {},
   "source": [
    "# Word Type distribution"
   ]
  },
  {
   "cell_type": "code",
   "execution_count": 281,
   "metadata": {},
   "outputs": [
    {
     "data": {
      "text/plain": [
       "<matplotlib.axes._subplots.AxesSubplot at 0x7fdc47075810>"
      ]
     },
     "execution_count": 281,
     "metadata": {},
     "output_type": "execute_result"
    },
    {
     "data": {
      "image/png": "[encoded data removed]",
      "text/plain": [
       "<Figure size 1152x576 with 2 Axes>"
      ]
     },
     "metadata": {
      "needs_background": "light"
     },
     "output_type": "display_data"
    }
   ],
   "source": [
    "plt.figure(figsize=(16,8))\n",
    "ax1 = plt.subplot(121, aspect='equal')\n",
    "new_df['wordtype'].value_counts().plot(kind='pie',autopct='%1.1f%%',ax=ax1)\n",
    "ax2 = plt.subplot(122)\n",
    "new_df['wordtype'].value_counts().plot(kind='bar',ax=ax2)\n",
    "\n"
   ]
  },
  {
   "cell_type": "code",
   "execution_count": null,
   "metadata": {},
   "outputs": [],
   "source": []
  },
  {
   "cell_type": "code",
   "execution_count": null,
   "metadata": {},
   "outputs": [],
   "source": []
  },
  {
   "cell_type": "code",
   "execution_count": 282,
   "metadata": {},
   "outputs": [],
   "source": [
    "new_df['start_timestamp'] = pd.to_datetime(new_df['start_ms_time'],unit='ms')"
   ]
  },
  {
   "cell_type": "code",
   "execution_count": 283,
   "metadata": {},
   "outputs": [
    {
     "data": {
      "text/html": [
       "<div>\n",
       "<style scoped>\n",
       "    .dataframe tbody tr th:only-of-type {\n",
       "        vertical-align: middle;\n",
       "    }\n",
       "\n",
       "    .dataframe tbody tr th {\n",
       "        vertical-align: top;\n",
       "    }\n",
       "\n",
       "    .dataframe thead th {\n",
       "        text-align: right;\n",
       "    }\n",
       "</style>\n",
       "<table border=\"1\" class=\"dataframe\">\n",
       "  <thead>\n",
       "    <tr style=\"text-align: right;\">\n",
       "      <th></th>\n",
       "      <th>createdat</th>\n",
       "      <th>start_timestamp</th>\n",
       "    </tr>\n",
       "  </thead>\n",
       "  <tbody>\n",
       "    <tr>\n",
       "      <th>226641</th>\n",
       "      <td>2017-02-25 01:53:18.116</td>\n",
       "      <td>2017-02-25 01:54:14.101</td>\n",
       "    </tr>\n",
       "    <tr>\n",
       "      <th>308344</th>\n",
       "      <td>2017-05-19 23:33:39.065</td>\n",
       "      <td>2017-05-19 23:39:06.008</td>\n",
       "    </tr>\n",
       "    <tr>\n",
       "      <th>284429</th>\n",
       "      <td>2017-06-28 21:48:05.765</td>\n",
       "      <td>2017-06-28 21:47:20.646</td>\n",
       "    </tr>\n",
       "    <tr>\n",
       "      <th>34508</th>\n",
       "      <td>2016-08-02 13:14:50.740</td>\n",
       "      <td>NaT</td>\n",
       "    </tr>\n",
       "    <tr>\n",
       "      <th>92243</th>\n",
       "      <td>2017-03-31 17:07:23.357</td>\n",
       "      <td>2017-03-31 17:08:41.809</td>\n",
       "    </tr>\n",
       "    <tr>\n",
       "      <th>40010</th>\n",
       "      <td>2016-11-28 19:28:29.131</td>\n",
       "      <td>2016-11-28 19:37:55.027</td>\n",
       "    </tr>\n",
       "    <tr>\n",
       "      <th>249014</th>\n",
       "      <td>2017-04-03 14:29:13.287</td>\n",
       "      <td>2017-04-03 14:32:04.937</td>\n",
       "    </tr>\n",
       "    <tr>\n",
       "      <th>235849</th>\n",
       "      <td>2017-04-06 13:03:21.403</td>\n",
       "      <td>2017-03-28 16:58:39.077</td>\n",
       "    </tr>\n",
       "    <tr>\n",
       "      <th>241089</th>\n",
       "      <td>2017-03-09 19:31:45.988</td>\n",
       "      <td>2017-03-09 19:33:27.761</td>\n",
       "    </tr>\n",
       "    <tr>\n",
       "      <th>148125</th>\n",
       "      <td>2017-03-28 14:33:21.609</td>\n",
       "      <td>2017-03-28 14:32:31.254</td>\n",
       "    </tr>\n",
       "  </tbody>\n",
       "</table>\n",
       "</div>"
      ],
      "text/plain": [
       "                     createdat         start_timestamp\n",
       "226641 2017-02-25 01:53:18.116 2017-02-25 01:54:14.101\n",
       "308344 2017-05-19 23:33:39.065 2017-05-19 23:39:06.008\n",
       "284429 2017-06-28 21:48:05.765 2017-06-28 21:47:20.646\n",
       "34508  2016-08-02 13:14:50.740                     NaT\n",
       "92243  2017-03-31 17:07:23.357 2017-03-31 17:08:41.809\n",
       "40010  2016-11-28 19:28:29.131 2016-11-28 19:37:55.027\n",
       "249014 2017-04-03 14:29:13.287 2017-04-03 14:32:04.937\n",
       "235849 2017-04-06 13:03:21.403 2017-03-28 16:58:39.077\n",
       "241089 2017-03-09 19:31:45.988 2017-03-09 19:33:27.761\n",
       "148125 2017-03-28 14:33:21.609 2017-03-28 14:32:31.254"
      ]
     },
     "execution_count": 283,
     "metadata": {},
     "output_type": "execute_result"
    }
   ],
   "source": [
    "new_df[['createdat','start_timestamp']].sample(10)"
   ]
  },
  {
   "cell_type": "markdown",
   "metadata": {},
   "source": [
    "# SECTION -- 2 : ANSWERING QUESTIONS."
   ]
  },
  {
   "cell_type": "markdown",
   "metadata": {},
   "source": [
    "## ‘Session-ize’ the activities: Can you group activities in a way to create sessions out of activities that are close together?"
   ]
  },
  {
   "cell_type": "markdown",
   "metadata": {},
   "source": [
    "# Logic : \n",
    "- Group by childid\n",
    "- sort by starttime\n",
    "- create lag of start time of 1\n",
    "- check if end time - start time < Threshold . Then same session. else different session.\n",
    "- Merge same session"
   ]
  },
  {
   "cell_type": "code",
   "execution_count": null,
   "metadata": {},
   "outputs": [],
   "source": [
    "# creating session\n"
   ]
  },
  {
   "cell_type": "code",
   "execution_count": 113,
   "metadata": {},
   "outputs": [],
   "source": [
    "sorted_df = new_df[['userid','starttime','endtime']].sort_values(by=['userid','starttime'])"
   ]
  },
  {
   "cell_type": "code",
   "execution_count": 382,
   "metadata": {},
   "outputs": [],
   "source": [
    "new_df.dropna(subset=['end_ms_time','start_ms_time'],inplace=True)\n",
    "new_df['Data_lagged'] = (new_df.sort_values(by=['childid','start_ms_time'], ascending=True)\n",
    "                       .groupby(['childid'])['start_ms_time'].shift(1))"
   ]
  },
  {
   "cell_type": "code",
   "execution_count": 383,
   "metadata": {},
   "outputs": [],
   "source": [
    "new_df['time_difference'] = (new_df['start_ms_time'] - new_df['Data_lagged'])/1000"
   ]
  },
  {
   "cell_type": "code",
   "execution_count": 384,
   "metadata": {},
   "outputs": [
    {
     "data": {
      "text/html": [
       "<div>\n",
       "<style scoped>\n",
       "    .dataframe tbody tr th:only-of-type {\n",
       "        vertical-align: middle;\n",
       "    }\n",
       "\n",
       "    .dataframe tbody tr th {\n",
       "        vertical-align: top;\n",
       "    }\n",
       "\n",
       "    .dataframe thead th {\n",
       "        text-align: right;\n",
       "    }\n",
       "</style>\n",
       "<table border=\"1\" class=\"dataframe\">\n",
       "  <thead>\n",
       "    <tr style=\"text-align: right;\">\n",
       "      <th></th>\n",
       "      <th>childid</th>\n",
       "      <th>start_timestamp</th>\n",
       "      <th>start_ms_time</th>\n",
       "      <th>end_ms_time</th>\n",
       "      <th>Data_lagged</th>\n",
       "      <th>time_difference</th>\n",
       "    </tr>\n",
       "  </thead>\n",
       "  <tbody>\n",
       "    <tr>\n",
       "      <th>42073</th>\n",
       "      <td>183</td>\n",
       "      <td>2016-11-11 02:31:57.326</td>\n",
       "      <td>1.478832e+12</td>\n",
       "      <td>1.478832e+12</td>\n",
       "      <td>NaN</td>\n",
       "      <td>NaN</td>\n",
       "    </tr>\n",
       "    <tr>\n",
       "      <th>186849</th>\n",
       "      <td>183</td>\n",
       "      <td>2016-11-11 02:33:43.436</td>\n",
       "      <td>1.478832e+12</td>\n",
       "      <td>1.478832e+12</td>\n",
       "      <td>1.478832e+12</td>\n",
       "      <td>106.110</td>\n",
       "    </tr>\n",
       "    <tr>\n",
       "      <th>198299</th>\n",
       "      <td>183</td>\n",
       "      <td>2016-11-11 02:36:24.699</td>\n",
       "      <td>1.478832e+12</td>\n",
       "      <td>1.478832e+12</td>\n",
       "      <td>1.478832e+12</td>\n",
       "      <td>161.263</td>\n",
       "    </tr>\n",
       "    <tr>\n",
       "      <th>178557</th>\n",
       "      <td>183</td>\n",
       "      <td>2016-11-11 02:37:53.533</td>\n",
       "      <td>1.478832e+12</td>\n",
       "      <td>1.478832e+12</td>\n",
       "      <td>1.478832e+12</td>\n",
       "      <td>88.834</td>\n",
       "    </tr>\n",
       "    <tr>\n",
       "      <th>10590</th>\n",
       "      <td>183</td>\n",
       "      <td>2016-11-11 02:42:12.045</td>\n",
       "      <td>1.478832e+12</td>\n",
       "      <td>1.478832e+12</td>\n",
       "      <td>1.478832e+12</td>\n",
       "      <td>258.512</td>\n",
       "    </tr>\n",
       "    <tr>\n",
       "      <th>69160</th>\n",
       "      <td>183</td>\n",
       "      <td>2016-11-11 02:43:53.666</td>\n",
       "      <td>1.478832e+12</td>\n",
       "      <td>1.478832e+12</td>\n",
       "      <td>1.478832e+12</td>\n",
       "      <td>101.621</td>\n",
       "    </tr>\n",
       "    <tr>\n",
       "      <th>70778</th>\n",
       "      <td>183</td>\n",
       "      <td>2016-11-11 02:45:53.123</td>\n",
       "      <td>1.478832e+12</td>\n",
       "      <td>1.478832e+12</td>\n",
       "      <td>1.478832e+12</td>\n",
       "      <td>119.457</td>\n",
       "    </tr>\n",
       "    <tr>\n",
       "      <th>37123</th>\n",
       "      <td>183</td>\n",
       "      <td>2016-11-11 14:30:35.821</td>\n",
       "      <td>1.478875e+12</td>\n",
       "      <td>1.478875e+12</td>\n",
       "      <td>1.478832e+12</td>\n",
       "      <td>42282.698</td>\n",
       "    </tr>\n",
       "    <tr>\n",
       "      <th>12079</th>\n",
       "      <td>183</td>\n",
       "      <td>2016-11-11 14:32:30.074</td>\n",
       "      <td>1.478875e+12</td>\n",
       "      <td>1.478875e+12</td>\n",
       "      <td>1.478875e+12</td>\n",
       "      <td>114.253</td>\n",
       "    </tr>\n",
       "    <tr>\n",
       "      <th>39016</th>\n",
       "      <td>183</td>\n",
       "      <td>2016-11-11 14:35:51.277</td>\n",
       "      <td>1.478875e+12</td>\n",
       "      <td>1.478875e+12</td>\n",
       "      <td>1.478875e+12</td>\n",
       "      <td>201.203</td>\n",
       "    </tr>\n",
       "  </tbody>\n",
       "</table>\n",
       "</div>"
      ],
      "text/plain": [
       "        childid         start_timestamp  start_ms_time   end_ms_time  \\\n",
       "42073       183 2016-11-11 02:31:57.326   1.478832e+12  1.478832e+12   \n",
       "186849      183 2016-11-11 02:33:43.436   1.478832e+12  1.478832e+12   \n",
       "198299      183 2016-11-11 02:36:24.699   1.478832e+12  1.478832e+12   \n",
       "178557      183 2016-11-11 02:37:53.533   1.478832e+12  1.478832e+12   \n",
       "10590       183 2016-11-11 02:42:12.045   1.478832e+12  1.478832e+12   \n",
       "69160       183 2016-11-11 02:43:53.666   1.478832e+12  1.478832e+12   \n",
       "70778       183 2016-11-11 02:45:53.123   1.478832e+12  1.478832e+12   \n",
       "37123       183 2016-11-11 14:30:35.821   1.478875e+12  1.478875e+12   \n",
       "12079       183 2016-11-11 14:32:30.074   1.478875e+12  1.478875e+12   \n",
       "39016       183 2016-11-11 14:35:51.277   1.478875e+12  1.478875e+12   \n",
       "\n",
       "         Data_lagged  time_difference  \n",
       "42073            NaN              NaN  \n",
       "186849  1.478832e+12          106.110  \n",
       "198299  1.478832e+12          161.263  \n",
       "178557  1.478832e+12           88.834  \n",
       "10590   1.478832e+12          258.512  \n",
       "69160   1.478832e+12          101.621  \n",
       "70778   1.478832e+12          119.457  \n",
       "37123   1.478832e+12        42282.698  \n",
       "12079   1.478875e+12          114.253  \n",
       "39016   1.478875e+12          201.203  "
      ]
     },
     "execution_count": 384,
     "metadata": {},
     "output_type": "execute_result"
    }
   ],
   "source": [
    "new_df[['childid','start_timestamp','start_ms_time','end_ms_time','Data_lagged','time_difference']].sort_values(by=['childid','start_ms_time']).head(10)"
   ]
  },
  {
   "cell_type": "code",
   "execution_count": 385,
   "metadata": {},
   "outputs": [],
   "source": [
    "# Sorting is needed, otherwise .diff() will output wrong results\n",
    "temp_df = new_df.sort_values(['childid', 'start_ms_time'])\n",
    "\n",
    "# Timestamp diff in seconds\n",
    "diff_timestamp = temp_df.groupby('childid')['start_ms_time'].diff() / 1000\n",
    "\n",
    "# indexes where new session_id will be created\n",
    "new_session = (diff_timestamp.isnull()) | (diff_timestamp > 600)\n",
    "\n",
    "# Create unique session_id for every user\n",
    "temp_df['session_id'] = temp_df.loc[new_session, ['childid', 'start_ms_time']] \\\n",
    "    .groupby('childid').rank(method='first').astype(int)\n",
    "\n",
    "# Propagate last valid observation forward (replace NaN)\n",
    "temp_df['session_id'] = temp_df['session_id'].fillna(method='ffill').astype(int)"
   ]
  },
  {
   "cell_type": "code",
   "execution_count": 386,
   "metadata": {},
   "outputs": [
    {
     "data": {
      "text/html": [
       "<div>\n",
       "<style scoped>\n",
       "    .dataframe tbody tr th:only-of-type {\n",
       "        vertical-align: middle;\n",
       "    }\n",
       "\n",
       "    .dataframe tbody tr th {\n",
       "        vertical-align: top;\n",
       "    }\n",
       "\n",
       "    .dataframe thead th {\n",
       "        text-align: right;\n",
       "    }\n",
       "</style>\n",
       "<table border=\"1\" class=\"dataframe\">\n",
       "  <thead>\n",
       "    <tr style=\"text-align: right;\">\n",
       "      <th></th>\n",
       "      <th>id</th>\n",
       "      <th>childid</th>\n",
       "      <th>endtime</th>\n",
       "      <th>gamename</th>\n",
       "      <th>gamescore</th>\n",
       "      <th>nonsensewords</th>\n",
       "      <th>starttime</th>\n",
       "      <th>userid</th>\n",
       "      <th>word</th>\n",
       "      <th>wordtype</th>\n",
       "      <th>...</th>\n",
       "      <th>gender</th>\n",
       "      <th>dateofbirth</th>\n",
       "      <th>duration</th>\n",
       "      <th>start_timestamp</th>\n",
       "      <th>Data_lagged</th>\n",
       "      <th>time_difference</th>\n",
       "      <th>date_only</th>\n",
       "      <th>Date_lagged_1</th>\n",
       "      <th>return_time_in_days</th>\n",
       "      <th>session_id</th>\n",
       "    </tr>\n",
       "  </thead>\n",
       "  <tbody>\n",
       "    <tr>\n",
       "      <th>42073</th>\n",
       "      <td>58252b9ce58bcb8d669d2596</td>\n",
       "      <td>183</td>\n",
       "      <td>1.478832e+09</td>\n",
       "      <td>Bubbles</td>\n",
       "      <td>1.0</td>\n",
       "      <td>False</td>\n",
       "      <td>1.478832e+09</td>\n",
       "      <td>61</td>\n",
       "      <td>VAN</td>\n",
       "      <td>WORD</td>\n",
       "      <td>...</td>\n",
       "      <td>F</td>\n",
       "      <td>2012-09-25 00:00:00</td>\n",
       "      <td>67.0</td>\n",
       "      <td>2016-11-11 02:31:57.326</td>\n",
       "      <td>NaN</td>\n",
       "      <td>NaN</td>\n",
       "      <td>2016-11-11</td>\n",
       "      <td>NaN</td>\n",
       "      <td>NaT</td>\n",
       "      <td>1</td>\n",
       "    </tr>\n",
       "    <tr>\n",
       "      <th>186849</th>\n",
       "      <td>58252c38e58bcb8d669d259f</td>\n",
       "      <td>183</td>\n",
       "      <td>1.478832e+09</td>\n",
       "      <td>Bubbles</td>\n",
       "      <td>1.0</td>\n",
       "      <td>False</td>\n",
       "      <td>1.478832e+09</td>\n",
       "      <td>61</td>\n",
       "      <td>SNAP</td>\n",
       "      <td>WORD</td>\n",
       "      <td>...</td>\n",
       "      <td>F</td>\n",
       "      <td>2012-09-25 00:00:00</td>\n",
       "      <td>118.0</td>\n",
       "      <td>2016-11-11 02:33:43.436</td>\n",
       "      <td>1.478832e+12</td>\n",
       "      <td>106.110</td>\n",
       "      <td>2016-11-11</td>\n",
       "      <td>2016-11-11</td>\n",
       "      <td>0 days</td>\n",
       "      <td>1</td>\n",
       "    </tr>\n",
       "    <tr>\n",
       "      <th>198299</th>\n",
       "      <td>58252c9ae58bcb8d669d25a7</td>\n",
       "      <td>183</td>\n",
       "      <td>1.478832e+09</td>\n",
       "      <td>Bubbles</td>\n",
       "      <td>1.0</td>\n",
       "      <td>False</td>\n",
       "      <td>1.478832e+09</td>\n",
       "      <td>61</td>\n",
       "      <td>LAP</td>\n",
       "      <td>WORD</td>\n",
       "      <td>...</td>\n",
       "      <td>F</td>\n",
       "      <td>2012-09-25 00:00:00</td>\n",
       "      <td>54.0</td>\n",
       "      <td>2016-11-11 02:36:24.699</td>\n",
       "      <td>1.478832e+12</td>\n",
       "      <td>161.263</td>\n",
       "      <td>2016-11-11</td>\n",
       "      <td>2016-11-11</td>\n",
       "      <td>0 days</td>\n",
       "      <td>1</td>\n",
       "    </tr>\n",
       "    <tr>\n",
       "      <th>178557</th>\n",
       "      <td>58252dfcc11324526969d26f</td>\n",
       "      <td>183</td>\n",
       "      <td>1.478832e+09</td>\n",
       "      <td>Bubbles</td>\n",
       "      <td>1.0</td>\n",
       "      <td>False</td>\n",
       "      <td>1.478832e+09</td>\n",
       "      <td>61</td>\n",
       "      <td>MAN</td>\n",
       "      <td>WORD</td>\n",
       "      <td>...</td>\n",
       "      <td>F</td>\n",
       "      <td>2012-09-25 00:00:00</td>\n",
       "      <td>81.0</td>\n",
       "      <td>2016-11-11 02:37:53.533</td>\n",
       "      <td>1.478832e+12</td>\n",
       "      <td>88.834</td>\n",
       "      <td>2016-11-11</td>\n",
       "      <td>2016-11-11</td>\n",
       "      <td>0 days</td>\n",
       "      <td>1</td>\n",
       "    </tr>\n",
       "    <tr>\n",
       "      <th>10590</th>\n",
       "      <td>58252dfcc11324526969d26e</td>\n",
       "      <td>183</td>\n",
       "      <td>1.478832e+09</td>\n",
       "      <td>Bubbles</td>\n",
       "      <td>1.0</td>\n",
       "      <td>False</td>\n",
       "      <td>1.478832e+09</td>\n",
       "      <td>61</td>\n",
       "      <td>HIT</td>\n",
       "      <td>WORD</td>\n",
       "      <td>...</td>\n",
       "      <td>F</td>\n",
       "      <td>2012-09-25 00:00:00</td>\n",
       "      <td>60.0</td>\n",
       "      <td>2016-11-11 02:42:12.045</td>\n",
       "      <td>1.478832e+12</td>\n",
       "      <td>258.512</td>\n",
       "      <td>2016-11-11</td>\n",
       "      <td>2016-11-11</td>\n",
       "      <td>0 days</td>\n",
       "      <td>1</td>\n",
       "    </tr>\n",
       "  </tbody>\n",
       "</table>\n",
       "<p>5 rows × 25 columns</p>\n",
       "</div>"
      ],
      "text/plain": [
       "                              id  childid       endtime gamename  gamescore  \\\n",
       "42073   58252b9ce58bcb8d669d2596      183  1.478832e+09  Bubbles        1.0   \n",
       "186849  58252c38e58bcb8d669d259f      183  1.478832e+09  Bubbles        1.0   \n",
       "198299  58252c9ae58bcb8d669d25a7      183  1.478832e+09  Bubbles        1.0   \n",
       "178557  58252dfcc11324526969d26f      183  1.478832e+09  Bubbles        1.0   \n",
       "10590   58252dfcc11324526969d26e      183  1.478832e+09  Bubbles        1.0   \n",
       "\n",
       "        nonsensewords     starttime  userid  word wordtype  ... gender  \\\n",
       "42073           False  1.478832e+09      61   VAN     WORD  ...      F   \n",
       "186849          False  1.478832e+09      61  SNAP     WORD  ...      F   \n",
       "198299          False  1.478832e+09      61   LAP     WORD  ...      F   \n",
       "178557          False  1.478832e+09      61   MAN     WORD  ...      F   \n",
       "10590           False  1.478832e+09      61   HIT     WORD  ...      F   \n",
       "\n",
       "                dateofbirth  duration         start_timestamp   Data_lagged  \\\n",
       "42073   2012-09-25 00:00:00      67.0 2016-11-11 02:31:57.326           NaN   \n",
       "186849  2012-09-25 00:00:00     118.0 2016-11-11 02:33:43.436  1.478832e+12   \n",
       "198299  2012-09-25 00:00:00      54.0 2016-11-11 02:36:24.699  1.478832e+12   \n",
       "178557  2012-09-25 00:00:00      81.0 2016-11-11 02:37:53.533  1.478832e+12   \n",
       "10590   2012-09-25 00:00:00      60.0 2016-11-11 02:42:12.045  1.478832e+12   \n",
       "\n",
       "       time_difference   date_only  Date_lagged_1 return_time_in_days  \\\n",
       "42073              NaN  2016-11-11            NaN                 NaT   \n",
       "186849         106.110  2016-11-11     2016-11-11              0 days   \n",
       "198299         161.263  2016-11-11     2016-11-11              0 days   \n",
       "178557          88.834  2016-11-11     2016-11-11              0 days   \n",
       "10590          258.512  2016-11-11     2016-11-11              0 days   \n",
       "\n",
       "        session_id  \n",
       "42073            1  \n",
       "186849           1  \n",
       "198299           1  \n",
       "178557           1  \n",
       "10590            1  \n",
       "\n",
       "[5 rows x 25 columns]"
      ]
     },
     "execution_count": 386,
     "metadata": {},
     "output_type": "execute_result"
    }
   ],
   "source": [
    "temp_df.sort_values(by=['childid','start_ms_time']).head()"
   ]
  },
  {
   "cell_type": "markdown",
   "metadata": {},
   "source": [
    "# A. Session per user"
   ]
  },
  {
   "cell_type": "code",
   "execution_count": 387,
   "metadata": {},
   "outputs": [
    {
     "data": {
      "text/plain": [
       "count    2541.000000\n",
       "mean       73.548209\n",
       "std       135.422531\n",
       "min         1.000000\n",
       "25%        11.000000\n",
       "50%        33.000000\n",
       "75%        82.000000\n",
       "max      3020.000000\n",
       "Name: session_id, dtype: float64"
      ]
     },
     "execution_count": 387,
     "metadata": {},
     "output_type": "execute_result"
    }
   ],
   "source": [
    "session_per_user = temp_df.groupby(['childid'])['session_id'].count()\n",
    "session_per_user.describe()"
   ]
  },
  {
   "cell_type": "markdown",
   "metadata": {},
   "source": [
    "# B. No of activities per session"
   ]
  },
  {
   "cell_type": "code",
   "execution_count": 388,
   "metadata": {},
   "outputs": [
    {
     "name": "stdout",
     "output_type": "stream",
     "text": [
      "childid  session_id\n",
      "183      1              7\n",
      "         2             14\n",
      "         3              6\n",
      "188      1              3\n",
      "         2              3\n",
      "Name: id, dtype: int64\n"
     ]
    },
    {
     "data": {
      "text/plain": [
       "count    19265.000000\n",
       "mean         9.700805\n",
       "std         11.640909\n",
       "min          1.000000\n",
       "25%          3.000000\n",
       "50%          6.000000\n",
       "75%         12.000000\n",
       "max        270.000000\n",
       "Name: id, dtype: float64"
      ]
     },
     "execution_count": 388,
     "metadata": {},
     "output_type": "execute_result"
    }
   ],
   "source": [
    "act_per_session = temp_df.groupby(['childid','session_id'])['id'].count()\n",
    "print(act_per_session.head())\n",
    "act_per_session.describe()"
   ]
  },
  {
   "cell_type": "markdown",
   "metadata": {},
   "source": [
    "# C. No of games per session"
   ]
  },
  {
   "cell_type": "code",
   "execution_count": 389,
   "metadata": {},
   "outputs": [
    {
     "name": "stdout",
     "output_type": "stream",
     "text": [
      "childid  session_id\n",
      "183      1             1\n",
      "         2             2\n",
      "         3             2\n",
      "188      1             1\n",
      "         2             2\n",
      "Name: gamename, dtype: int64\n"
     ]
    },
    {
     "data": {
      "text/plain": [
       "count    19265.000000\n",
       "mean         1.456268\n",
       "std          0.870611\n",
       "min          1.000000\n",
       "25%          1.000000\n",
       "50%          1.000000\n",
       "75%          2.000000\n",
       "max          9.000000\n",
       "Name: gamename, dtype: float64"
      ]
     },
     "execution_count": 389,
     "metadata": {},
     "output_type": "execute_result"
    }
   ],
   "source": [
    "games_per_session = temp_df.groupby(['childid','session_id'])['gamename'].nunique()\n",
    "print(games_per_session.head())\n",
    "games_per_session.describe()"
   ]
  },
  {
   "cell_type": "code",
   "execution_count": null,
   "metadata": {},
   "outputs": [],
   "source": []
  },
  {
   "cell_type": "markdown",
   "metadata": {},
   "source": [
    "# Section 2: Retention:"
   ]
  },
  {
   "cell_type": "markdown",
   "metadata": {},
   "source": [
    "## a. Do children spend more time per day; or less once they get started?"
   ]
  },
  {
   "cell_type": "code",
   "execution_count": 364,
   "metadata": {},
   "outputs": [
    {
     "data": {
      "text/html": [
       "<div>\n",
       "<style scoped>\n",
       "    .dataframe tbody tr th:only-of-type {\n",
       "        vertical-align: middle;\n",
       "    }\n",
       "\n",
       "    .dataframe tbody tr th {\n",
       "        vertical-align: top;\n",
       "    }\n",
       "\n",
       "    .dataframe thead th {\n",
       "        text-align: right;\n",
       "    }\n",
       "</style>\n",
       "<table border=\"1\" class=\"dataframe\">\n",
       "  <thead>\n",
       "    <tr style=\"text-align: right;\">\n",
       "      <th></th>\n",
       "      <th>id</th>\n",
       "      <th>childid</th>\n",
       "      <th>endtime</th>\n",
       "      <th>gamename</th>\n",
       "      <th>gamescore</th>\n",
       "      <th>nonsensewords</th>\n",
       "      <th>starttime</th>\n",
       "      <th>userid</th>\n",
       "      <th>word</th>\n",
       "      <th>wordtype</th>\n",
       "      <th>...</th>\n",
       "      <th>start_ms_time</th>\n",
       "      <th>platform</th>\n",
       "      <th>dnc</th>\n",
       "      <th>gender</th>\n",
       "      <th>dateofbirth</th>\n",
       "      <th>duration</th>\n",
       "      <th>start_timestamp</th>\n",
       "      <th>Data_lagged</th>\n",
       "      <th>time_difference</th>\n",
       "      <th>date_only</th>\n",
       "    </tr>\n",
       "  </thead>\n",
       "  <tbody>\n",
       "    <tr>\n",
       "      <th>7835</th>\n",
       "      <td>5820c484beb9bb2235711616</td>\n",
       "      <td>288</td>\n",
       "      <td>1.478543e+09</td>\n",
       "      <td>Bubbles</td>\n",
       "      <td>1.0</td>\n",
       "      <td>False</td>\n",
       "      <td>1.478543e+09</td>\n",
       "      <td>124</td>\n",
       "      <td>BRAND</td>\n",
       "      <td>WORD</td>\n",
       "      <td>...</td>\n",
       "      <td>1.478543e+12</td>\n",
       "      <td>NaN</td>\n",
       "      <td>0.0</td>\n",
       "      <td>M</td>\n",
       "      <td>2011-11-02 00:00:00</td>\n",
       "      <td>147.0</td>\n",
       "      <td>2016-11-07 18:21:33.227</td>\n",
       "      <td>1.478543e+12</td>\n",
       "      <td>125.448</td>\n",
       "      <td>2016-11-07</td>\n",
       "    </tr>\n",
       "    <tr>\n",
       "      <th>7838</th>\n",
       "      <td>582203aefd4162335dc40a66</td>\n",
       "      <td>373</td>\n",
       "      <td>1.478625e+09</td>\n",
       "      <td>Bubbles</td>\n",
       "      <td>1.0</td>\n",
       "      <td>False</td>\n",
       "      <td>1.478625e+09</td>\n",
       "      <td>178</td>\n",
       "      <td>SWEPT</td>\n",
       "      <td>WORD</td>\n",
       "      <td>...</td>\n",
       "      <td>1.478625e+12</td>\n",
       "      <td>NaN</td>\n",
       "      <td>0.0</td>\n",
       "      <td>F</td>\n",
       "      <td>2010-05-11 00:00:00</td>\n",
       "      <td>164.0</td>\n",
       "      <td>2016-11-08 17:03:03.539</td>\n",
       "      <td>1.478624e+12</td>\n",
       "      <td>148.214</td>\n",
       "      <td>2016-11-08</td>\n",
       "    </tr>\n",
       "    <tr>\n",
       "      <th>7839</th>\n",
       "      <td>58222769fd4162335dc4118c</td>\n",
       "      <td>246</td>\n",
       "      <td>1.478634e+09</td>\n",
       "      <td>Lagoon</td>\n",
       "      <td>0.0</td>\n",
       "      <td>True</td>\n",
       "      <td>1.478634e+09</td>\n",
       "      <td>95</td>\n",
       "      <td>BADTIME</td>\n",
       "      <td>WORD</td>\n",
       "      <td>...</td>\n",
       "      <td>1.478634e+12</td>\n",
       "      <td>NaN</td>\n",
       "      <td>0.0</td>\n",
       "      <td>F</td>\n",
       "      <td>2004-07-19 00:00:00</td>\n",
       "      <td>196.0</td>\n",
       "      <td>2016-11-08 19:34:58.849</td>\n",
       "      <td>1.478634e+12</td>\n",
       "      <td>62.105</td>\n",
       "      <td>2016-11-08</td>\n",
       "    </tr>\n",
       "    <tr>\n",
       "      <th>8425</th>\n",
       "      <td>581e8c8364e866590e1e896e</td>\n",
       "      <td>996</td>\n",
       "      <td>1.478398e+09</td>\n",
       "      <td>Bowling</td>\n",
       "      <td>1.0</td>\n",
       "      <td>False</td>\n",
       "      <td>1.478398e+09</td>\n",
       "      <td>450</td>\n",
       "      <td>HOP</td>\n",
       "      <td>WORD</td>\n",
       "      <td>...</td>\n",
       "      <td>1.478398e+12</td>\n",
       "      <td>NaN</td>\n",
       "      <td>0.0</td>\n",
       "      <td>M</td>\n",
       "      <td>2013-07-11 00:00:00</td>\n",
       "      <td>82.0</td>\n",
       "      <td>2016-11-06 01:59:02.608</td>\n",
       "      <td>1.478397e+12</td>\n",
       "      <td>82.640</td>\n",
       "      <td>2016-11-06</td>\n",
       "    </tr>\n",
       "    <tr>\n",
       "      <th>8607</th>\n",
       "      <td>5820fc52beb9bb2235711b4e</td>\n",
       "      <td>721</td>\n",
       "      <td>1.478557e+09</td>\n",
       "      <td>Lagoon</td>\n",
       "      <td>1.0</td>\n",
       "      <td>False</td>\n",
       "      <td>1.478557e+09</td>\n",
       "      <td>353</td>\n",
       "      <td>ALL</td>\n",
       "      <td>WORD</td>\n",
       "      <td>...</td>\n",
       "      <td>1.478557e+12</td>\n",
       "      <td>NaN</td>\n",
       "      <td>0.0</td>\n",
       "      <td>M</td>\n",
       "      <td>2010-08-01 00:00:00</td>\n",
       "      <td>58.0</td>\n",
       "      <td>2016-11-07 22:21:07.257</td>\n",
       "      <td>1.478468e+12</td>\n",
       "      <td>89084.509</td>\n",
       "      <td>2016-11-07</td>\n",
       "    </tr>\n",
       "  </tbody>\n",
       "</table>\n",
       "<p>5 rows × 22 columns</p>\n",
       "</div>"
      ],
      "text/plain": [
       "                            id  childid       endtime gamename  gamescore  \\\n",
       "7835  5820c484beb9bb2235711616      288  1.478543e+09  Bubbles        1.0   \n",
       "7838  582203aefd4162335dc40a66      373  1.478625e+09  Bubbles        1.0   \n",
       "7839  58222769fd4162335dc4118c      246  1.478634e+09   Lagoon        0.0   \n",
       "8425  581e8c8364e866590e1e896e      996  1.478398e+09  Bowling        1.0   \n",
       "8607  5820fc52beb9bb2235711b4e      721  1.478557e+09   Lagoon        1.0   \n",
       "\n",
       "      nonsensewords     starttime  userid     word wordtype  ...  \\\n",
       "7835          False  1.478543e+09     124    BRAND     WORD  ...   \n",
       "7838          False  1.478625e+09     178    SWEPT     WORD  ...   \n",
       "7839           True  1.478634e+09      95  BADTIME     WORD  ...   \n",
       "8425          False  1.478398e+09     450      HOP     WORD  ...   \n",
       "8607          False  1.478557e+09     353      ALL     WORD  ...   \n",
       "\n",
       "     start_ms_time  platform  dnc gender          dateofbirth duration  \\\n",
       "7835  1.478543e+12       NaN  0.0      M  2011-11-02 00:00:00    147.0   \n",
       "7838  1.478625e+12       NaN  0.0      F  2010-05-11 00:00:00    164.0   \n",
       "7839  1.478634e+12       NaN  0.0      F  2004-07-19 00:00:00    196.0   \n",
       "8425  1.478398e+12       NaN  0.0      M  2013-07-11 00:00:00     82.0   \n",
       "8607  1.478557e+12       NaN  0.0      M  2010-08-01 00:00:00     58.0   \n",
       "\n",
       "             start_timestamp   Data_lagged time_difference   date_only  \n",
       "7835 2016-11-07 18:21:33.227  1.478543e+12         125.448  2016-11-07  \n",
       "7838 2016-11-08 17:03:03.539  1.478624e+12         148.214  2016-11-08  \n",
       "7839 2016-11-08 19:34:58.849  1.478634e+12          62.105  2016-11-08  \n",
       "8425 2016-11-06 01:59:02.608  1.478397e+12          82.640  2016-11-06  \n",
       "8607 2016-11-07 22:21:07.257  1.478468e+12       89084.509  2016-11-07  \n",
       "\n",
       "[5 rows x 22 columns]"
      ]
     },
     "execution_count": 364,
     "metadata": {},
     "output_type": "execute_result"
    }
   ],
   "source": [
    "new_df['date_only'] = new_df['start_timestamp'].dt.date\n",
    "new_df.head()"
   ]
  },
  {
   "cell_type": "code",
   "execution_count": 336,
   "metadata": {},
   "outputs": [
    {
     "data": {
      "text/plain": [
       "count    13477.000000\n",
       "mean       779.584997\n",
       "std        920.853567\n",
       "min          3.000000\n",
       "25%        246.000000\n",
       "50%        503.000000\n",
       "75%        975.000000\n",
       "max      18660.000000\n",
       "Name: duration, dtype: float64"
      ]
     },
     "execution_count": 336,
     "metadata": {},
     "output_type": "execute_result"
    }
   ],
   "source": [
    "new_df.groupby(['childid','date_only'])['duration'].sum().describe()"
   ]
  },
  {
   "cell_type": "markdown",
   "metadata": {},
   "source": [
    "# b. What’s a player’s lifetime? In other words, how many days does a child play our games?"
   ]
  },
  {
   "cell_type": "code",
   "execution_count": 362,
   "metadata": {},
   "outputs": [
    {
     "data": {
      "text/plain": [
       "<matplotlib.axes._subplots.AxesSubplot at 0x7fdc58c09390>"
      ]
     },
     "execution_count": 362,
     "metadata": {},
     "output_type": "execute_result"
    },
    {
     "data": {
      "image/png": "[encoded data removed]",
      "text/plain": [
       "<Figure size 432x288 with 1 Axes>"
      ]
     },
     "metadata": {
      "needs_background": "light"
     },
     "output_type": "display_data"
    }
   ],
   "source": [
    "new_df.groupby(['childid']).agg({\"date_only\": \"nunique\"}).plot(kind='hist',bins=20)"
   ]
  },
  {
   "cell_type": "code",
   "execution_count": 363,
   "metadata": {},
   "outputs": [
    {
     "data": {
      "text/html": [
       "<div>\n",
       "<style scoped>\n",
       "    .dataframe tbody tr th:only-of-type {\n",
       "        vertical-align: middle;\n",
       "    }\n",
       "\n",
       "    .dataframe tbody tr th {\n",
       "        vertical-align: top;\n",
       "    }\n",
       "\n",
       "    .dataframe thead th {\n",
       "        text-align: right;\n",
       "    }\n",
       "</style>\n",
       "<table border=\"1\" class=\"dataframe\">\n",
       "  <thead>\n",
       "    <tr style=\"text-align: right;\">\n",
       "      <th></th>\n",
       "      <th>date_only</th>\n",
       "    </tr>\n",
       "  </thead>\n",
       "  <tbody>\n",
       "    <tr>\n",
       "      <th>count</th>\n",
       "      <td>2541.000000</td>\n",
       "    </tr>\n",
       "    <tr>\n",
       "      <th>mean</th>\n",
       "      <td>5.303817</td>\n",
       "    </tr>\n",
       "    <tr>\n",
       "      <th>std</th>\n",
       "      <td>6.269708</td>\n",
       "    </tr>\n",
       "    <tr>\n",
       "      <th>min</th>\n",
       "      <td>1.000000</td>\n",
       "    </tr>\n",
       "    <tr>\n",
       "      <th>25%</th>\n",
       "      <td>2.000000</td>\n",
       "    </tr>\n",
       "    <tr>\n",
       "      <th>50%</th>\n",
       "      <td>3.000000</td>\n",
       "    </tr>\n",
       "    <tr>\n",
       "      <th>75%</th>\n",
       "      <td>6.000000</td>\n",
       "    </tr>\n",
       "    <tr>\n",
       "      <th>max</th>\n",
       "      <td>63.000000</td>\n",
       "    </tr>\n",
       "  </tbody>\n",
       "</table>\n",
       "</div>"
      ],
      "text/plain": [
       "         date_only\n",
       "count  2541.000000\n",
       "mean      5.303817\n",
       "std       6.269708\n",
       "min       1.000000\n",
       "25%       2.000000\n",
       "50%       3.000000\n",
       "75%       6.000000\n",
       "max      63.000000"
      ]
     },
     "execution_count": 363,
     "metadata": {},
     "output_type": "execute_result"
    }
   ],
   "source": [
    "new_df.groupby(['childid']).agg({\"date_only\": \"nunique\"}).describe()\n"
   ]
  },
  {
   "cell_type": "markdown",
   "metadata": {},
   "source": [
    "# Modeling.\n",
    "https://towardsdatascience.com/predicting-next-purchase-day-15fae5548027"
   ]
  },
  {
   "cell_type": "code",
   "execution_count": 406,
   "metadata": {},
   "outputs": [],
   "source": [
    "import numpy as np\n",
    "new_df['Date_lagged_1'] = (new_df.sort_values(by=['childid','start_ms_time'], ascending=True)\n",
    "                       .groupby(['childid'])['date_only'].shift(1))\n",
    "new_df['Date_lagged_2'] = (new_df.sort_values(by=['childid','start_ms_time'], ascending=True)\n",
    "                       .groupby(['childid'])['date_only'].shift(2))\n",
    "new_df['Date_lagged_3'] = (new_df.sort_values(by=['childid','start_ms_time'], ascending=True)\n",
    "                       .groupby(['childid'])['date_only'].shift(3))"
   ]
  },
  {
   "cell_type": "code",
   "execution_count": 407,
   "metadata": {},
   "outputs": [],
   "source": [
    "new_df['DayDiff'] = (new_df['date_only'] - new_df['Date_lagged_1']).dt.days\n",
    "new_df['DayDiff2'] = (new_df['date_only'] - new_df['Date_lagged_2']).dt.days\n",
    "new_df['DayDiff3'] = (new_df['date_only'] - new_df['Date_lagged_3']).dt.days"
   ]
  },
  {
   "cell_type": "code",
   "execution_count": 413,
   "metadata": {},
   "outputs": [
    {
     "data": {
      "text/html": [
       "<div>\n",
       "<style scoped>\n",
       "    .dataframe tbody tr th:only-of-type {\n",
       "        vertical-align: middle;\n",
       "    }\n",
       "\n",
       "    .dataframe tbody tr th {\n",
       "        vertical-align: top;\n",
       "    }\n",
       "\n",
       "    .dataframe thead tr th {\n",
       "        text-align: left;\n",
       "    }\n",
       "</style>\n",
       "<table border=\"1\" class=\"dataframe\">\n",
       "  <thead>\n",
       "    <tr>\n",
       "      <th></th>\n",
       "      <th>childid</th>\n",
       "      <th colspan=\"2\" halign=\"left\">DayDiff</th>\n",
       "    </tr>\n",
       "    <tr>\n",
       "      <th></th>\n",
       "      <th></th>\n",
       "      <th>mean</th>\n",
       "      <th>std</th>\n",
       "    </tr>\n",
       "  </thead>\n",
       "  <tbody>\n",
       "    <tr>\n",
       "      <th>count</th>\n",
       "      <td>2541.000000</td>\n",
       "      <td>2455.000000</td>\n",
       "      <td>2379.000000</td>\n",
       "    </tr>\n",
       "    <tr>\n",
       "      <th>mean</th>\n",
       "      <td>2274.499803</td>\n",
       "      <td>1.460467</td>\n",
       "      <td>5.040383</td>\n",
       "    </tr>\n",
       "    <tr>\n",
       "      <th>std</th>\n",
       "      <td>1023.240965</td>\n",
       "      <td>3.567026</td>\n",
       "      <td>7.961338</td>\n",
       "    </tr>\n",
       "    <tr>\n",
       "      <th>min</th>\n",
       "      <td>183.000000</td>\n",
       "      <td>0.000000</td>\n",
       "      <td>0.000000</td>\n",
       "    </tr>\n",
       "    <tr>\n",
       "      <th>25%</th>\n",
       "      <td>1491.000000</td>\n",
       "      <td>0.037736</td>\n",
       "      <td>0.280475</td>\n",
       "    </tr>\n",
       "    <tr>\n",
       "      <th>50%</th>\n",
       "      <td>2315.000000</td>\n",
       "      <td>0.426667</td>\n",
       "      <td>2.257547</td>\n",
       "    </tr>\n",
       "    <tr>\n",
       "      <th>75%</th>\n",
       "      <td>3127.000000</td>\n",
       "      <td>1.436397</td>\n",
       "      <td>6.297504</td>\n",
       "    </tr>\n",
       "    <tr>\n",
       "      <th>max</th>\n",
       "      <td>3947.000000</td>\n",
       "      <td>58.666667</td>\n",
       "      <td>92.953393</td>\n",
       "    </tr>\n",
       "  </tbody>\n",
       "</table>\n",
       "</div>"
      ],
      "text/plain": [
       "           childid      DayDiff             \n",
       "                           mean          std\n",
       "count  2541.000000  2455.000000  2379.000000\n",
       "mean   2274.499803     1.460467     5.040383\n",
       "std    1023.240965     3.567026     7.961338\n",
       "min     183.000000     0.000000     0.000000\n",
       "25%    1491.000000     0.037736     0.280475\n",
       "50%    2315.000000     0.426667     2.257547\n",
       "75%    3127.000000     1.436397     6.297504\n",
       "max    3947.000000    58.666667    92.953393"
      ]
     },
     "execution_count": 413,
     "metadata": {},
     "output_type": "execute_result"
    }
   ],
   "source": [
    "tx_day_diff = new_df.groupby('childid').agg({'DayDiff': ['mean','std']}).reset_index()\n",
    "tx_day_diff.describe()"
   ]
  },
  {
   "cell_type": "code",
   "execution_count": 414,
   "metadata": {},
   "outputs": [
    {
     "data": {
      "text/html": [
       "<div>\n",
       "<style scoped>\n",
       "    .dataframe tbody tr th:only-of-type {\n",
       "        vertical-align: middle;\n",
       "    }\n",
       "\n",
       "    .dataframe tbody tr th {\n",
       "        vertical-align: top;\n",
       "    }\n",
       "\n",
       "    .dataframe thead tr th {\n",
       "        text-align: left;\n",
       "    }\n",
       "</style>\n",
       "<table border=\"1\" class=\"dataframe\">\n",
       "  <thead>\n",
       "    <tr>\n",
       "      <th></th>\n",
       "      <th>childid</th>\n",
       "      <th colspan=\"2\" halign=\"left\">DayDiff2</th>\n",
       "    </tr>\n",
       "    <tr>\n",
       "      <th></th>\n",
       "      <th></th>\n",
       "      <th>mean</th>\n",
       "      <th>std</th>\n",
       "    </tr>\n",
       "  </thead>\n",
       "  <tbody>\n",
       "    <tr>\n",
       "      <th>count</th>\n",
       "      <td>2541.000000</td>\n",
       "      <td>2379.000000</td>\n",
       "      <td>2312.000000</td>\n",
       "    </tr>\n",
       "    <tr>\n",
       "      <th>mean</th>\n",
       "      <td>2274.499803</td>\n",
       "      <td>2.939610</td>\n",
       "      <td>6.851081</td>\n",
       "    </tr>\n",
       "    <tr>\n",
       "      <th>std</th>\n",
       "      <td>1023.240965</td>\n",
       "      <td>7.033820</td>\n",
       "      <td>10.291010</td>\n",
       "    </tr>\n",
       "    <tr>\n",
       "      <th>min</th>\n",
       "      <td>183.000000</td>\n",
       "      <td>0.000000</td>\n",
       "      <td>0.000000</td>\n",
       "    </tr>\n",
       "    <tr>\n",
       "      <th>25%</th>\n",
       "      <td>1491.000000</td>\n",
       "      <td>0.111111</td>\n",
       "      <td>0.437667</td>\n",
       "    </tr>\n",
       "    <tr>\n",
       "      <th>50%</th>\n",
       "      <td>2315.000000</td>\n",
       "      <td>0.912281</td>\n",
       "      <td>3.266573</td>\n",
       "    </tr>\n",
       "    <tr>\n",
       "      <th>75%</th>\n",
       "      <td>3127.000000</td>\n",
       "      <td>2.882618</td>\n",
       "      <td>8.901145</td>\n",
       "    </tr>\n",
       "    <tr>\n",
       "      <th>max</th>\n",
       "      <td>3947.000000</td>\n",
       "      <td>114.500000</td>\n",
       "      <td>113.844192</td>\n",
       "    </tr>\n",
       "  </tbody>\n",
       "</table>\n",
       "</div>"
      ],
      "text/plain": [
       "           childid     DayDiff2             \n",
       "                           mean          std\n",
       "count  2541.000000  2379.000000  2312.000000\n",
       "mean   2274.499803     2.939610     6.851081\n",
       "std    1023.240965     7.033820    10.291010\n",
       "min     183.000000     0.000000     0.000000\n",
       "25%    1491.000000     0.111111     0.437667\n",
       "50%    2315.000000     0.912281     3.266573\n",
       "75%    3127.000000     2.882618     8.901145\n",
       "max    3947.000000   114.500000   113.844192"
      ]
     },
     "execution_count": 414,
     "metadata": {},
     "output_type": "execute_result"
    }
   ],
   "source": [
    "tx_day_diff = new_df.groupby('childid').agg({'DayDiff2': ['mean','std']}).reset_index()\n",
    "tx_day_diff.describe()"
   ]
  },
  {
   "cell_type": "code",
   "execution_count": 415,
   "metadata": {},
   "outputs": [
    {
     "data": {
      "text/html": [
       "<div>\n",
       "<style scoped>\n",
       "    .dataframe tbody tr th:only-of-type {\n",
       "        vertical-align: middle;\n",
       "    }\n",
       "\n",
       "    .dataframe tbody tr th {\n",
       "        vertical-align: top;\n",
       "    }\n",
       "\n",
       "    .dataframe thead tr th {\n",
       "        text-align: left;\n",
       "    }\n",
       "</style>\n",
       "<table border=\"1\" class=\"dataframe\">\n",
       "  <thead>\n",
       "    <tr>\n",
       "      <th></th>\n",
       "      <th>childid</th>\n",
       "      <th colspan=\"2\" halign=\"left\">DayDiff3</th>\n",
       "    </tr>\n",
       "    <tr>\n",
       "      <th></th>\n",
       "      <th></th>\n",
       "      <th>mean</th>\n",
       "      <th>std</th>\n",
       "    </tr>\n",
       "  </thead>\n",
       "  <tbody>\n",
       "    <tr>\n",
       "      <th>count</th>\n",
       "      <td>2541.000000</td>\n",
       "      <td>2312.000000</td>\n",
       "      <td>2247.000000</td>\n",
       "    </tr>\n",
       "    <tr>\n",
       "      <th>mean</th>\n",
       "      <td>2274.499803</td>\n",
       "      <td>4.238132</td>\n",
       "      <td>8.047698</td>\n",
       "    </tr>\n",
       "    <tr>\n",
       "      <th>std</th>\n",
       "      <td>1023.240965</td>\n",
       "      <td>9.671698</td>\n",
       "      <td>11.433103</td>\n",
       "    </tr>\n",
       "    <tr>\n",
       "      <th>min</th>\n",
       "      <td>183.000000</td>\n",
       "      <td>0.000000</td>\n",
       "      <td>0.000000</td>\n",
       "    </tr>\n",
       "    <tr>\n",
       "      <th>25%</th>\n",
       "      <td>1491.000000</td>\n",
       "      <td>0.206897</td>\n",
       "      <td>0.547723</td>\n",
       "    </tr>\n",
       "    <tr>\n",
       "      <th>50%</th>\n",
       "      <td>2315.000000</td>\n",
       "      <td>1.399248</td>\n",
       "      <td>4.029143</td>\n",
       "    </tr>\n",
       "    <tr>\n",
       "      <th>75%</th>\n",
       "      <td>3127.000000</td>\n",
       "      <td>4.238289</td>\n",
       "      <td>10.792846</td>\n",
       "    </tr>\n",
       "    <tr>\n",
       "      <th>max</th>\n",
       "      <td>3947.000000</td>\n",
       "      <td>176.000000</td>\n",
       "      <td>99.421182</td>\n",
       "    </tr>\n",
       "  </tbody>\n",
       "</table>\n",
       "</div>"
      ],
      "text/plain": [
       "           childid     DayDiff3             \n",
       "                           mean          std\n",
       "count  2541.000000  2312.000000  2247.000000\n",
       "mean   2274.499803     4.238132     8.047698\n",
       "std    1023.240965     9.671698    11.433103\n",
       "min     183.000000     0.000000     0.000000\n",
       "25%    1491.000000     0.206897     0.547723\n",
       "50%    2315.000000     1.399248     4.029143\n",
       "75%    3127.000000     4.238289    10.792846\n",
       "max    3947.000000   176.000000    99.421182"
      ]
     },
     "execution_count": 415,
     "metadata": {},
     "output_type": "execute_result"
    }
   ],
   "source": [
    "tx_day_diff = new_df.groupby('childid').agg({'DayDiff3': ['mean','std']}).reset_index()\n",
    "tx_day_diff.describe()"
   ]
  },
  {
   "cell_type": "code",
   "execution_count": null,
   "metadata": {},
   "outputs": [],
   "source": []
  }
 ],
 "metadata": {
  "kernelspec": {
   "display_name": "Python 3",
   "language": "python",
   "name": "python3"
  },
  "language_info": {
   "codemirror_mode": {
    "name": "ipython",
    "version": 3
   },
   "file_extension": ".py",
   "mimetype": "text/x-python",
   "name": "python",
   "nbconvert_exporter": "python",
   "pygments_lexer": "ipython3",
   "version": "3.7.5"
  }
 },
 "nbformat": 4,
 "nbformat_minor": 2
}
